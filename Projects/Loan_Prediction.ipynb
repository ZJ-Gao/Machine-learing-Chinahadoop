{
 "cells": [
  {
   "cell_type": "markdown",
   "metadata": {},
   "source": [
    "# Project of Chinahadoop.cn\n",
    "## Machine Learning L1\n",
    "### Predict The Result of Loan Application\n",
    "\n",
    "\n",
    "In this program, data is stored as csv document and the data comes from https://datahack.analyticsvidhya.com/contest/practice-problem-loan-prediction-iii/ \n",
    "\n",
    "The key point of bank loan approval is risk control. Therefore, the focus of the applicant's review is the possibility of default, so the applicant's income, stability, loan amount and repayment period will be evaluated. According to the applicant's conditions, the project further refines the impact of various variables and classic machine learning algorithms were used, so as to scientifically classify loan application customers, helping financial institutions to improve their ability to control credit risk of loans."
   ]
  },
  {
   "cell_type": "code",
   "execution_count": 1,
   "metadata": {},
   "outputs": [],
   "source": [
    "# Delete warning for the beauty of exporting this file\n",
    "import warnings\n",
    "warnings.filterwarnings('ignore')"
   ]
  },
  {
   "cell_type": "markdown",
   "metadata": {},
   "source": [
    "## 1. Read Data"
   ]
  },
  {
   "cell_type": "code",
   "execution_count": 2,
   "metadata": {},
   "outputs": [],
   "source": [
    "import pandas as pd\n",
    "\n",
    "file = './data/loan_records.csv'\n",
    "loan_df = pd.read_csv(file)"
   ]
  },
  {
   "cell_type": "markdown",
   "metadata": {},
   "source": [
    "### 1.1 Preview of Data"
   ]
  },
  {
   "cell_type": "code",
   "execution_count": 3,
   "metadata": {},
   "outputs": [
    {
     "name": "stdout",
     "output_type": "stream",
     "text": [
      "Data set has 614rows and 13colunmns\n"
     ]
    }
   ],
   "source": [
    "print('Data set has {}rows and {}colunmns'.format(loan_df.shape[0], loan_df.shape[1]))"
   ]
  },
  {
   "cell_type": "code",
   "execution_count": 4,
   "metadata": {},
   "outputs": [
    {
     "data": {
      "text/html": [
       "<div>\n",
       "<style scoped>\n",
       "    .dataframe tbody tr th:only-of-type {\n",
       "        vertical-align: middle;\n",
       "    }\n",
       "\n",
       "    .dataframe tbody tr th {\n",
       "        vertical-align: top;\n",
       "    }\n",
       "\n",
       "    .dataframe thead th {\n",
       "        text-align: right;\n",
       "    }\n",
       "</style>\n",
       "<table border=\"1\" class=\"dataframe\">\n",
       "  <thead>\n",
       "    <tr style=\"text-align: right;\">\n",
       "      <th></th>\n",
       "      <th>Loan_ID</th>\n",
       "      <th>Gender</th>\n",
       "      <th>Married</th>\n",
       "      <th>Dependents</th>\n",
       "      <th>Education</th>\n",
       "      <th>Self_Employed</th>\n",
       "      <th>ApplicantIncome</th>\n",
       "      <th>CoapplicantIncome</th>\n",
       "      <th>LoanAmount</th>\n",
       "      <th>Loan_Amount_Term</th>\n",
       "      <th>Credit_History</th>\n",
       "      <th>Property_Area</th>\n",
       "      <th>Loan_Status</th>\n",
       "    </tr>\n",
       "  </thead>\n",
       "  <tbody>\n",
       "    <tr>\n",
       "      <td>0</td>\n",
       "      <td>LP001002</td>\n",
       "      <td>Male</td>\n",
       "      <td>No</td>\n",
       "      <td>0</td>\n",
       "      <td>Graduate</td>\n",
       "      <td>No</td>\n",
       "      <td>5849</td>\n",
       "      <td>0.0</td>\n",
       "      <td>NaN</td>\n",
       "      <td>360.0</td>\n",
       "      <td>1.0</td>\n",
       "      <td>Urban</td>\n",
       "      <td>Y</td>\n",
       "    </tr>\n",
       "    <tr>\n",
       "      <td>1</td>\n",
       "      <td>LP001003</td>\n",
       "      <td>Male</td>\n",
       "      <td>Yes</td>\n",
       "      <td>1</td>\n",
       "      <td>Graduate</td>\n",
       "      <td>No</td>\n",
       "      <td>4583</td>\n",
       "      <td>1508.0</td>\n",
       "      <td>128.0</td>\n",
       "      <td>360.0</td>\n",
       "      <td>1.0</td>\n",
       "      <td>Rural</td>\n",
       "      <td>N</td>\n",
       "    </tr>\n",
       "    <tr>\n",
       "      <td>2</td>\n",
       "      <td>LP001005</td>\n",
       "      <td>Male</td>\n",
       "      <td>Yes</td>\n",
       "      <td>0</td>\n",
       "      <td>Graduate</td>\n",
       "      <td>Yes</td>\n",
       "      <td>3000</td>\n",
       "      <td>0.0</td>\n",
       "      <td>66.0</td>\n",
       "      <td>360.0</td>\n",
       "      <td>1.0</td>\n",
       "      <td>Urban</td>\n",
       "      <td>Y</td>\n",
       "    </tr>\n",
       "    <tr>\n",
       "      <td>3</td>\n",
       "      <td>LP001006</td>\n",
       "      <td>Male</td>\n",
       "      <td>Yes</td>\n",
       "      <td>0</td>\n",
       "      <td>Not Graduate</td>\n",
       "      <td>No</td>\n",
       "      <td>2583</td>\n",
       "      <td>2358.0</td>\n",
       "      <td>120.0</td>\n",
       "      <td>360.0</td>\n",
       "      <td>1.0</td>\n",
       "      <td>Urban</td>\n",
       "      <td>Y</td>\n",
       "    </tr>\n",
       "    <tr>\n",
       "      <td>4</td>\n",
       "      <td>LP001008</td>\n",
       "      <td>Male</td>\n",
       "      <td>No</td>\n",
       "      <td>0</td>\n",
       "      <td>Graduate</td>\n",
       "      <td>No</td>\n",
       "      <td>6000</td>\n",
       "      <td>0.0</td>\n",
       "      <td>141.0</td>\n",
       "      <td>360.0</td>\n",
       "      <td>1.0</td>\n",
       "      <td>Urban</td>\n",
       "      <td>Y</td>\n",
       "    </tr>\n",
       "  </tbody>\n",
       "</table>\n",
       "</div>"
      ],
      "text/plain": [
       "    Loan_ID Gender Married Dependents     Education Self_Employed  \\\n",
       "0  LP001002   Male      No          0      Graduate            No   \n",
       "1  LP001003   Male     Yes          1      Graduate            No   \n",
       "2  LP001005   Male     Yes          0      Graduate           Yes   \n",
       "3  LP001006   Male     Yes          0  Not Graduate            No   \n",
       "4  LP001008   Male      No          0      Graduate            No   \n",
       "\n",
       "   ApplicantIncome  CoapplicantIncome  LoanAmount  Loan_Amount_Term  \\\n",
       "0             5849                0.0         NaN             360.0   \n",
       "1             4583             1508.0       128.0             360.0   \n",
       "2             3000                0.0        66.0             360.0   \n",
       "3             2583             2358.0       120.0             360.0   \n",
       "4             6000                0.0       141.0             360.0   \n",
       "\n",
       "   Credit_History Property_Area Loan_Status  \n",
       "0             1.0         Urban           Y  \n",
       "1             1.0         Rural           N  \n",
       "2             1.0         Urban           Y  \n",
       "3             1.0         Urban           Y  \n",
       "4             1.0         Urban           Y  "
      ]
     },
     "execution_count": 4,
     "metadata": {},
     "output_type": "execute_result"
    }
   ],
   "source": [
    "loan_df.head()"
   ]
  },
  {
   "cell_type": "markdown",
   "metadata": {},
   "source": [
    "Data Characteristics could be read from the sample of loans.\n",
    "\n",
    "- **Loan_ID**：Number\n",
    "- **Gender**：(Male/ Female)\n",
    "- **Married**：(Y/N)\n",
    "- **Dependents**：Number\n",
    "- **Education**：(Graduate/ Not Graduate)\n",
    "- **Self_Employed**：(Y/N)\n",
    "- **ApplicantIncome**: Number\n",
    "- **CoapplicantIncome**： Number\n",
    "- **LoanAmount**： Number(Unit: Thousand)\n",
    "- **Loan_Amount_Term**: Number(Unit: Month)\n",
    "- **Credit_History**：History credit correspond the standard or not（0/1)\n",
    "- **Property_Area**：(Urban/ Semi Urban/ Rural)\n",
    "- **Loan_Status**：Approve or not(Y/N)\n",
    "---\n",
    "In the Machine Learning Model we will set up，**Loan_Status** will be the target column."
   ]
  },
  {
   "cell_type": "markdown",
   "metadata": {},
   "source": [
    "### 1.2 Statistics of the Data"
   ]
  },
  {
   "cell_type": "code",
   "execution_count": 5,
   "metadata": {},
   "outputs": [
    {
     "data": {
      "text/html": [
       "<div>\n",
       "<style scoped>\n",
       "    .dataframe tbody tr th:only-of-type {\n",
       "        vertical-align: middle;\n",
       "    }\n",
       "\n",
       "    .dataframe tbody tr th {\n",
       "        vertical-align: top;\n",
       "    }\n",
       "\n",
       "    .dataframe thead th {\n",
       "        text-align: right;\n",
       "    }\n",
       "</style>\n",
       "<table border=\"1\" class=\"dataframe\">\n",
       "  <thead>\n",
       "    <tr style=\"text-align: right;\">\n",
       "      <th></th>\n",
       "      <th>ApplicantIncome</th>\n",
       "      <th>CoapplicantIncome</th>\n",
       "      <th>LoanAmount</th>\n",
       "      <th>Loan_Amount_Term</th>\n",
       "      <th>Credit_History</th>\n",
       "    </tr>\n",
       "  </thead>\n",
       "  <tbody>\n",
       "    <tr>\n",
       "      <td>count</td>\n",
       "      <td>614.000000</td>\n",
       "      <td>614.000000</td>\n",
       "      <td>592.000000</td>\n",
       "      <td>600.00000</td>\n",
       "      <td>564.000000</td>\n",
       "    </tr>\n",
       "    <tr>\n",
       "      <td>mean</td>\n",
       "      <td>5403.459283</td>\n",
       "      <td>1621.245798</td>\n",
       "      <td>146.412162</td>\n",
       "      <td>342.00000</td>\n",
       "      <td>0.842199</td>\n",
       "    </tr>\n",
       "    <tr>\n",
       "      <td>std</td>\n",
       "      <td>6109.041673</td>\n",
       "      <td>2926.248369</td>\n",
       "      <td>85.587325</td>\n",
       "      <td>65.12041</td>\n",
       "      <td>0.364878</td>\n",
       "    </tr>\n",
       "    <tr>\n",
       "      <td>min</td>\n",
       "      <td>150.000000</td>\n",
       "      <td>0.000000</td>\n",
       "      <td>9.000000</td>\n",
       "      <td>12.00000</td>\n",
       "      <td>0.000000</td>\n",
       "    </tr>\n",
       "    <tr>\n",
       "      <td>25%</td>\n",
       "      <td>2877.500000</td>\n",
       "      <td>0.000000</td>\n",
       "      <td>100.000000</td>\n",
       "      <td>360.00000</td>\n",
       "      <td>1.000000</td>\n",
       "    </tr>\n",
       "    <tr>\n",
       "      <td>50%</td>\n",
       "      <td>3812.500000</td>\n",
       "      <td>1188.500000</td>\n",
       "      <td>128.000000</td>\n",
       "      <td>360.00000</td>\n",
       "      <td>1.000000</td>\n",
       "    </tr>\n",
       "    <tr>\n",
       "      <td>75%</td>\n",
       "      <td>5795.000000</td>\n",
       "      <td>2297.250000</td>\n",
       "      <td>168.000000</td>\n",
       "      <td>360.00000</td>\n",
       "      <td>1.000000</td>\n",
       "    </tr>\n",
       "    <tr>\n",
       "      <td>max</td>\n",
       "      <td>81000.000000</td>\n",
       "      <td>41667.000000</td>\n",
       "      <td>700.000000</td>\n",
       "      <td>480.00000</td>\n",
       "      <td>1.000000</td>\n",
       "    </tr>\n",
       "  </tbody>\n",
       "</table>\n",
       "</div>"
      ],
      "text/plain": [
       "       ApplicantIncome  CoapplicantIncome  LoanAmount  Loan_Amount_Term  \\\n",
       "count       614.000000         614.000000  592.000000         600.00000   \n",
       "mean       5403.459283        1621.245798  146.412162         342.00000   \n",
       "std        6109.041673        2926.248369   85.587325          65.12041   \n",
       "min         150.000000           0.000000    9.000000          12.00000   \n",
       "25%        2877.500000           0.000000  100.000000         360.00000   \n",
       "50%        3812.500000        1188.500000  128.000000         360.00000   \n",
       "75%        5795.000000        2297.250000  168.000000         360.00000   \n",
       "max       81000.000000       41667.000000  700.000000         480.00000   \n",
       "\n",
       "       Credit_History  \n",
       "count      564.000000  \n",
       "mean         0.842199  \n",
       "std          0.364878  \n",
       "min          0.000000  \n",
       "25%          1.000000  \n",
       "50%          1.000000  \n",
       "75%          1.000000  \n",
       "max          1.000000  "
      ]
     },
     "execution_count": 5,
     "metadata": {},
     "output_type": "execute_result"
    }
   ],
   "source": [
    "loan_df.describe()"
   ]
  },
  {
   "cell_type": "markdown",
   "metadata": {},
   "source": [
    "From observation of the table above, \n",
    "\n",
    "- LoanAmount、Loan_Amount_Term、Credit_History column has obvious null value, and this need to be addressed."
   ]
  },
  {
   "cell_type": "markdown",
   "metadata": {},
   "source": [
    "## 2. Data Processing"
   ]
  },
  {
   "cell_type": "markdown",
   "metadata": {},
   "source": [
    "### 2.1 Repulicates Processing"
   ]
  },
  {
   "cell_type": "code",
   "execution_count": 6,
   "metadata": {},
   "outputs": [
    {
     "name": "stdout",
     "output_type": "stream",
     "text": [
      "Replicates do not exsit in this dataset\n"
     ]
    }
   ],
   "source": [
    "if loan_df[loan_df['Loan_ID'].duplicated()].shape[0] > 0:\n",
    "    print('Replicates exsit in this dataset')\n",
    "else:\n",
    "    print('Replicates do not exsit in this dataset')"
   ]
  },
  {
   "cell_type": "markdown",
   "metadata": {},
   "source": [
    "### 2.2 Null Value Processing"
   ]
  },
  {
   "cell_type": "code",
   "execution_count": 7,
   "metadata": {},
   "outputs": [
    {
     "name": "stdout",
     "output_type": "stream",
     "text": [
      "Loan_ID Total amount of null value：0\n",
      "Gender Total amount of null value：13\n",
      "Married Total amount of null value：3\n",
      "Dependents Total amount of null value：15\n",
      "Education Total amount of null value：0\n",
      "Self_Employed Total amount of null value：32\n",
      "ApplicantIncome Total amount of null value：0\n",
      "CoapplicantIncome Total amount of null value：0\n",
      "LoanAmount Total amount of null value：22\n",
      "Loan_Amount_Term Total amount of null value：14\n",
      "Credit_History Total amount of null value：50\n",
      "Property_Area Total amount of null value：0\n",
      "Loan_Status Total amount of null value：0\n"
     ]
    }
   ],
   "source": [
    "cols = loan_df.columns.tolist()\n",
    "\n",
    "for col in cols:\n",
    "    empty_count = loan_df[col].isnull().sum()\n",
    "    print('{} Total amount of null value：{}'.format(col, empty_count))"
   ]
  },
  {
   "cell_type": "code",
   "execution_count": 8,
   "metadata": {},
   "outputs": [
    {
     "name": "stdout",
     "output_type": "stream",
     "text": [
      "The size of original sample is 614，and the size of sample after null cleaning is 480\n"
     ]
    }
   ],
   "source": [
    "# Delet Null vaule in the sample\n",
    "clean_loan_df = loan_df.dropna()\n",
    "print('The size of original sample is {}，and the size of sample after null cleaning is {}'.format(loan_df.shape[0], clean_loan_df.shape[0]))"
   ]
  },
  {
   "cell_type": "markdown",
   "metadata": {},
   "source": [
    "### 2.3 Special Value Proceesing\n",
    "Dependents columns contain 3+. Transfer 3+ into 3."
   ]
  },
  {
   "cell_type": "code",
   "execution_count": 9,
   "metadata": {},
   "outputs": [],
   "source": [
    "# Neglect SettingWithCopyWarning\n",
    "clean_loan_df.loc[clean_loan_df['Dependents'] == '3+', 'Dependents'] = 3"
   ]
  },
  {
   "cell_type": "markdown",
   "metadata": {},
   "source": [
    "### 2.4 Extract Feature Data\n",
    "Below are three types of featurn columns:\n",
    "1. Numerical Variables\n",
    "    - **Dependents**\n",
    "    - **ApplicantIncome**\n",
    "    - **CoapplicantIncome**\n",
    "    - **LoanAmount**: (Unit: thousand)\n",
    "    - **Loan_Amount_Term**：(Unit: month)\n",
    "2. Label Variables\n",
    "    - **Education**: (Graduate/ Not Graduate)\n",
    "    - **Credit_History**：History credit meet the standard or not(0/1)\n",
    "3. Categorical Variables\n",
    "    - **Gender**：(Male/ Female)\n",
    "    - **Married**：(Y/N)\n",
    "    - **Self_Employed**：(Y/N)\n",
    "    - **Property_Area**：(Urban/ Semi Urban/ Rural)"
   ]
  },
  {
   "cell_type": "code",
   "execution_count": 10,
   "metadata": {},
   "outputs": [],
   "source": [
    "# Design feature columns according to types of variables\n",
    "# 1. Numeric features\n",
    "num_cols = ['Dependents', 'ApplicantIncome', 'CoapplicantIncome', 'LoanAmount', 'Loan_Amount_Term']\n",
    "\n",
    "# 2. Label Variables\n",
    "ord_cols = ['Education', 'Credit_History']\n",
    "\n",
    "# 3. Categorical Variables\n",
    "cat_cols = ['Gender', 'Married', 'Self_Employed', 'Property_Area']\n",
    "\n",
    "feat_cols = num_cols + ord_cols + cat_cols\n",
    "\n",
    "# Feature data\n",
    "feat_df = clean_loan_df[feat_cols]\n",
    "\n",
    "# Lable data\n",
    "# Transfer 'Y' to '1'; 'N' to '0'\n",
    "# Save the result to label\n",
    "labels = clean_loan_df['Loan_Status'].copy()\n",
    "labels.loc[clean_loan_df['Loan_Status'] == 'Y'] = 1\n",
    "labels.loc[clean_loan_df['Loan_Status'] == 'N'] = 0"
   ]
  },
  {
   "cell_type": "markdown",
   "metadata": {},
   "source": [
    "Divide trainning set and test set"
   ]
  },
  {
   "cell_type": "code",
   "execution_count": 11,
   "metadata": {},
   "outputs": [
    {
     "name": "stdout",
     "output_type": "stream",
     "text": [
      "Train set has 360 records，and test set has 120 records\n"
     ]
    }
   ],
   "source": [
    "from sklearn.model_selection import train_test_split\n",
    "\n",
    "X_train, X_test, y_train, y_test = train_test_split(feat_df, labels, random_state=10, test_size=1/4)\n",
    "print('Train set has {} records，and test set has {} records'.format(X_train.shape[0], X_test.shape[0]))"
   ]
  },
  {
   "cell_type": "markdown",
   "metadata": {},
   "source": [
    "### Question:\n",
    "What's the effect of rand_state in train_test_split method?"
   ]
  },
  {
   "cell_type": "markdown",
   "metadata": {},
   "source": [
    "Answer: Generate random numbers"
   ]
  },
  {
   "cell_type": "markdown",
   "metadata": {},
   "source": [
    "## 4. Feature Processing"
   ]
  },
  {
   "cell_type": "markdown",
   "metadata": {},
   "source": [
    "### 4.1 Label Columns"
   ]
  },
  {
   "cell_type": "markdown",
   "metadata": {},
   "source": [
    "Transfer 'Graduate' to 1 and 'undergradute' to 0"
   ]
  },
  {
   "cell_type": "code",
   "execution_count": 12,
   "metadata": {},
   "outputs": [],
   "source": [
    "# Train set\n",
    "X_train.loc[X_train['Education'] == 'Graduate', 'Education'] = 1\n",
    "X_train.loc[X_train['Education'] == 'Not Graduate', 'Education'] = 0\n",
    "\n",
    "# Test set\n",
    "X_test.loc[X_test['Education'] == 'Graduate', 'Education'] = 1\n",
    "X_test.loc[X_test['Education'] == 'Not Graduate', 'Education'] = 0\n",
    "\n",
    "# Get the results of Label columns\n",
    "train_ord_feats = X_train[ord_cols].values\n",
    "test_ord_feats = X_test[ord_cols].values"
   ]
  },
  {
   "cell_type": "markdown",
   "metadata": {},
   "source": [
    "### 4.2 Categorical Columns"
   ]
  },
  {
   "cell_type": "code",
   "execution_count": 13,
   "metadata": {},
   "outputs": [],
   "source": [
    "from sklearn.preprocessing import LabelEncoder, OneHotEncoder\n",
    "import numpy as np\n",
    "\n",
    "def encode_cat_feats(train_df, test_df, col_name):\n",
    "    \"\"\"\n",
    "        Encoding\n",
    "    \"\"\"\n",
    "    # categorical variables\n",
    "    train_cat_feat = X_train[col_name].values\n",
    "    test_cat_feat = X_test[col_name].values\n",
    "    \n",
    "    label_enc = LabelEncoder()\n",
    "    onehot_enc = OneHotEncoder(sparse=False)\n",
    "\n",
    "    # Train set \n",
    "    proc_train_cat_feat = label_enc.fit_transform(train_cat_feat).reshape(-1, 1)\n",
    "    proc_train_cat_feat = onehot_enc.fit_transform(proc_train_cat_feat)\n",
    "\n",
    "    # Test set\n",
    "    proc_test_cat_feat = label_enc.transform(test_cat_feat).reshape(-1, 1)\n",
    "    proc_test_cat_feat = onehot_enc.transform(proc_test_cat_feat)\n",
    "    \n",
    "    return proc_train_cat_feat, proc_test_cat_feat\n",
    "\n",
    "# Default\n",
    "enc_train_cat_feats = None\n",
    "enc_test_cat_feats = None\n",
    "\n",
    "# Encoding\n",
    "for cat_col in cat_cols:\n",
    "    enc_train_cat_feat, enc_test_cat_feat = encode_cat_feats(X_train, X_test, cat_col)\n",
    "    # Combine features in train set\n",
    "    if enc_train_cat_feats is None:\n",
    "        enc_train_cat_feats = enc_train_cat_feat\n",
    "    else:\n",
    "        enc_train_cat_feats = np.hstack((enc_train_cat_feats, enc_train_cat_feat))\n",
    "        \n",
    "    # Combine features in test set\n",
    "    if enc_test_cat_feats is None:\n",
    "        enc_test_cat_feats = enc_test_cat_feat\n",
    "    else:\n",
    "        enc_test_cat_feats = np.hstack((enc_test_cat_feats, enc_test_cat_feat))"
   ]
  },
  {
   "cell_type": "markdown",
   "metadata": {},
   "source": [
    "### 4.3 Normalization"
   ]
  },
  {
   "cell_type": "code",
   "execution_count": 14,
   "metadata": {},
   "outputs": [
    {
     "name": "stdout",
     "output_type": "stream",
     "text": [
      "Feature dimension after processing is  16\n"
     ]
    }
   ],
   "source": [
    "from sklearn.preprocessing import MinMaxScaler\n",
    "\n",
    "# Get numerical features\n",
    "train_num_feats = X_train[num_cols].values\n",
    "test_num_feats = X_test[num_cols].values\n",
    "\n",
    "# Combine sequence features, categorical featueres and numerical features\n",
    "all_train_feats = np.hstack((train_ord_feats, enc_train_cat_feats, train_num_feats))\n",
    "all_test_feats = np.hstack((test_ord_feats, enc_test_cat_feats, test_num_feats))\n",
    "\n",
    "#################################################################\n",
    "\n",
    "# Normalization \n",
    "scaler = MinMaxScaler(feature_range=(0, 1))\n",
    "all_proc_train_feats = scaler.fit_transform(all_train_feats)\n",
    "all_proc_test_feats = scaler.transform(all_test_feats)\n",
    "\n",
    "\n",
    "print('Feature dimension after processing is ', all_proc_train_feats.shape[1])"
   ]
  },
  {
   "cell_type": "markdown",
   "metadata": {},
   "source": [
    "## 5. Set Up Test Model\n",
    "\n",
    "Use GridSearchCV to adjust important parameteres"
   ]
  },
  {
   "cell_type": "code",
   "execution_count": 15,
   "metadata": {},
   "outputs": [],
   "source": [
    "from sklearn.linear_model import LogisticRegression\n",
    "from sklearn.neighbors import KNeighborsClassifier\n",
    "from sklearn.tree import DecisionTreeClassifier\n",
    "from sklearn.svm import SVC\n",
    "from sklearn.model_selection import GridSearchCV\n",
    "import time\n",
    "\n",
    "def train_test_model(X_train, y_train, X_test, y_test, model_name, model, param_range):\n",
    "    \"\"\"\n",
    "        Train and test model\n",
    "        model_name:     parameter_name:\n",
    "            kNN         n_neighbors\n",
    "            LR          C\n",
    "            SVM         C\n",
    "            DT          max_depth\n",
    "            AdaBoost    n_estimators\n",
    "            GBDT        learning_rate\n",
    "            RF          n_estimators\n",
    "\n",
    "       Return:\n",
    "        1. Best model\n",
    "        2. Average training time\n",
    "        3. Accuracy\n",
    "    \"\"\"\n",
    "    print('Train{}...'.format(model_name))\n",
    "    \n",
    "    #################################################################\n",
    "    clf = GridSearchCV(estimator=model,\n",
    "                      param_grid=param_range,\n",
    "                      cv=5,\n",
    "                      scoring='accuracy',\n",
    "                      refit=True)\n",
    "    \n",
    "    start = time.time()\n",
    "    clf.fit(X_train, y_train)\n",
    "    # Timing\n",
    "    end = time.time()\n",
    "    duration = end - start\n",
    "    print('Time consuming: {:.4f}s'.format(duration))\n",
    "\n",
    "    # Test model\n",
    "    train_score = clf.score(X_train, y_train)\n",
    "    print('Accuracy{:.3f}%'.format(train_score * 100))\n",
    "\n",
    "    test_score = clf.score(X_test, y_test)\n",
    "    print('Accuracy: {:.3f}%'.format(test_score * 100))\n",
    "    print('Timing: {:.4f}s'.format(duration))\n",
    "\n",
    "    y_pred = clf.predict(X_test)\n",
    "\n",
    "    return clf, test_score, duration"
   ]
  },
  {
   "cell_type": "code",
   "execution_count": 16,
   "metadata": {
    "scrolled": true
   },
   "outputs": [
    {
     "name": "stdout",
     "output_type": "stream",
     "text": [
      "TrainkNN...\n",
      "Time consuming: 0.0609s\n",
      "Accuracy80.556%\n",
      "Accuracy: 76.667%\n",
      "Timing: 0.0609s\n",
      "TrainDT...\n",
      "Time consuming: 0.0259s\n",
      "Accuracy91.111%\n",
      "Accuracy: 75.000%\n",
      "Timing: 0.0259s\n",
      "TrainSVM...\n",
      "Time consuming: 0.0688s\n",
      "Accuracy80.556%\n",
      "Accuracy: 81.667%\n",
      "Timing: 0.0688s\n",
      "TrainLR...\n",
      "Time consuming: 0.0300s\n",
      "Accuracy80.556%\n",
      "Accuracy: 81.667%\n",
      "Timing: 0.0300s\n"
     ]
    },
    {
     "name": "stderr",
     "output_type": "stream",
     "text": [
      "C:\\Users\\CUPGZ\\Anaconda3\\lib\\site-packages\\sklearn\\model_selection\\_search.py:814: DeprecationWarning: The default of the `iid` parameter will change from True to False in version 0.22 and will be removed in 0.24. This will change numeric results when test-set sizes are unequal.\n",
      "  DeprecationWarning)\n",
      "C:\\Users\\CUPGZ\\Anaconda3\\lib\\site-packages\\sklearn\\model_selection\\_search.py:814: DeprecationWarning: The default of the `iid` parameter will change from True to False in version 0.22 and will be removed in 0.24. This will change numeric results when test-set sizes are unequal.\n",
      "  DeprecationWarning)\n"
     ]
    }
   ],
   "source": [
    "# Add LR and SVM in model_name_param_dict and appoint corres                                                                                                                                                                                                                                                                                                                                                                                                                                                                                                                                                                                                                                                                                                                                            \n",
    "# Appoint hyperparameters\n",
    "model_name_param_dict = {'kNN': (KNeighborsClassifier(),\n",
    "                                 {'n_neighbors': [1, 5, 15]}),\n",
    "                         'DT': (DecisionTreeClassifier(),\n",
    "                                {'max_depth': [10, 50, 100]}),\n",
    "                         'SVM': (SVC(kernel='linear'),\n",
    "                                {'C': [0.01, 1, 100]}),\n",
    "                         'LR': (LogisticRegression(),\n",
    "                                {'C': [0.01, 1, 100]})\n",
    "                         }\n",
    "#################################################################\n",
    "\n",
    "# Compare results\n",
    "results_df = pd.DataFrame(columns=['Accuracy (%)', 'Time (s)'],\n",
    "                          index=list(model_name_param_dict.keys()))\n",
    "results_df.index.name = 'Model'\n",
    "for model_name, (model, param_range) in model_name_param_dict.items():\n",
    "    _, best_acc, mean_duration = train_test_model(all_proc_train_feats, y_train, all_proc_test_feats, y_test,\n",
    "                                                        model_name, model, param_range)\n",
    "    results_df.loc[model_name, 'Accuracy (%)'] = best_acc * 100\n",
    "    results_df.loc[model_name, 'Time (s)'] = mean_duration"
   ]
  },
  {
   "cell_type": "markdown",
   "metadata": {},
   "source": [
    "### Visulization\n",
    "Compare efficiency and accuracy of different models"
   ]
  },
  {
   "cell_type": "code",
   "execution_count": 17,
   "metadata": {},
   "outputs": [
    {
     "data": {
      "image/png": "[encoded data removed]",
      "text/plain": [
       "<Figure size 720x288 with 2 Axes>"
      ]
     },
     "metadata": {
      "needs_background": "light"
     },
     "output_type": "display_data"
    }
   ],
   "source": [
    "# Visulization\n",
    "\n",
    "import matplotlib.pyplot as plt\n",
    "%matplotlib inline\n",
    "\n",
    "plt.figure(figsize=(10, 4))\n",
    "ax1 = plt.subplot(1, 2, 1)\n",
    "ax2 = plt.subplot(1, 2, 2)\n",
    "results_df.plot(y=['Time (s)'], kind='bar', ax=ax2, title='Time(s)', legend=False)\n",
    "plt.tight_layout()\n",
    "plt.show()"
   ]
  }
 ],
 "metadata": {
  "kernelspec": {
   "display_name": "Python 3",
   "language": "python",
   "name": "python3"
  },
  "language_info": {
   "codemirror_mode": {
    "name": "ipython",
    "version": 3
   },
   "file_extension": ".py",
   "mimetype": "text/x-python",
   "name": "python",
   "nbconvert_exporter": "python",
   "pygments_lexer": "ipython3",
   "version": "3.7.4"
  }
 },
 "nbformat": 4,
 "nbformat_minor": 2
}
