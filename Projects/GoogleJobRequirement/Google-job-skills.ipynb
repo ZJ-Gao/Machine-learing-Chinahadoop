{
 "cells": [
  {
   "cell_type": "markdown",
   "metadata": {},
   "source": [
    "# Project of Chinahadoop.cn\n",
    "## Numpy & Pandas\n",
    "## Google job Data"
   ]
  },
  {
   "cell_type": "markdown",
   "metadata": {},
   "source": [
    "### Load file\n",
    "\n",
    "Try to use Pandas's read_csv to load file and read the first rows of data."
   ]
  },
  {
   "cell_type": "code",
   "execution_count": 6,
   "metadata": {},
   "outputs": [
    {
     "data": {
      "text/html": [
       "<div>\n",
       "<style scoped>\n",
       "    .dataframe tbody tr th:only-of-type {\n",
       "        vertical-align: middle;\n",
       "    }\n",
       "\n",
       "    .dataframe tbody tr th {\n",
       "        vertical-align: top;\n",
       "    }\n",
       "\n",
       "    .dataframe thead th {\n",
       "        text-align: right;\n",
       "    }\n",
       "</style>\n",
       "<table border=\"1\" class=\"dataframe\">\n",
       "  <thead>\n",
       "    <tr style=\"text-align: right;\">\n",
       "      <th></th>\n",
       "      <th>Company</th>\n",
       "      <th>Title</th>\n",
       "      <th>Category</th>\n",
       "      <th>Location</th>\n",
       "      <th>Responsibilities</th>\n",
       "      <th>Minimum Qualifications</th>\n",
       "      <th>Preferred Qualifications</th>\n",
       "    </tr>\n",
       "  </thead>\n",
       "  <tbody>\n",
       "    <tr>\n",
       "      <th>0</th>\n",
       "      <td>Google</td>\n",
       "      <td>Google Cloud Program Manager</td>\n",
       "      <td>Program Management</td>\n",
       "      <td>Singapore</td>\n",
       "      <td>Shape, shepherd, ship, and show technical prog...</td>\n",
       "      <td>BA/BS degree or equivalent practical experienc...</td>\n",
       "      <td>Experience in the business technology market a...</td>\n",
       "    </tr>\n",
       "    <tr>\n",
       "      <th>1</th>\n",
       "      <td>Google</td>\n",
       "      <td>Supplier Development Engineer (SDE), Cable/Con...</td>\n",
       "      <td>Manufacturing &amp; Supply Chain</td>\n",
       "      <td>Shanghai, China</td>\n",
       "      <td>Drive cross-functional activities in the suppl...</td>\n",
       "      <td>BS degree in an Engineering discipline or equi...</td>\n",
       "      <td>BSEE, BSME or BSIE degree.\\nExperience of usin...</td>\n",
       "    </tr>\n",
       "    <tr>\n",
       "      <th>2</th>\n",
       "      <td>Google</td>\n",
       "      <td>Data Analyst, Product and Tools Operations, Go...</td>\n",
       "      <td>Technical Solutions</td>\n",
       "      <td>New York, NY, United States</td>\n",
       "      <td>Collect and analyze data to draw insight and i...</td>\n",
       "      <td>Bachelor’s degree in Business, Economics, Stat...</td>\n",
       "      <td>Experience partnering or consulting cross-func...</td>\n",
       "    </tr>\n",
       "    <tr>\n",
       "      <th>3</th>\n",
       "      <td>Google</td>\n",
       "      <td>Developer Advocate, Partner Engineering</td>\n",
       "      <td>Developer Relations</td>\n",
       "      <td>Mountain View, CA, United States</td>\n",
       "      <td>Work one-on-one with the top Android, iOS, and...</td>\n",
       "      <td>BA/BS degree in Computer Science or equivalent...</td>\n",
       "      <td>Experience as a software developer, architect,...</td>\n",
       "    </tr>\n",
       "    <tr>\n",
       "      <th>4</th>\n",
       "      <td>Google</td>\n",
       "      <td>Program Manager, Audio Visual (AV) Deployments</td>\n",
       "      <td>Program Management</td>\n",
       "      <td>Sunnyvale, CA, United States</td>\n",
       "      <td>Plan requirements with internal customers.\\nPr...</td>\n",
       "      <td>BA/BS degree or equivalent practical experienc...</td>\n",
       "      <td>CTS Certification.\\nExperience in the construc...</td>\n",
       "    </tr>\n",
       "  </tbody>\n",
       "</table>\n",
       "</div>"
      ],
      "text/plain": [
       "  Company                                              Title  \\\n",
       "0  Google                       Google Cloud Program Manager   \n",
       "1  Google  Supplier Development Engineer (SDE), Cable/Con...   \n",
       "2  Google  Data Analyst, Product and Tools Operations, Go...   \n",
       "3  Google            Developer Advocate, Partner Engineering   \n",
       "4  Google     Program Manager, Audio Visual (AV) Deployments   \n",
       "\n",
       "                       Category                          Location  \\\n",
       "0            Program Management                         Singapore   \n",
       "1  Manufacturing & Supply Chain                   Shanghai, China   \n",
       "2           Technical Solutions       New York, NY, United States   \n",
       "3           Developer Relations  Mountain View, CA, United States   \n",
       "4            Program Management      Sunnyvale, CA, United States   \n",
       "\n",
       "                                    Responsibilities  \\\n",
       "0  Shape, shepherd, ship, and show technical prog...   \n",
       "1  Drive cross-functional activities in the suppl...   \n",
       "2  Collect and analyze data to draw insight and i...   \n",
       "3  Work one-on-one with the top Android, iOS, and...   \n",
       "4  Plan requirements with internal customers.\\nPr...   \n",
       "\n",
       "                              Minimum Qualifications  \\\n",
       "0  BA/BS degree or equivalent practical experienc...   \n",
       "1  BS degree in an Engineering discipline or equi...   \n",
       "2  Bachelor’s degree in Business, Economics, Stat...   \n",
       "3  BA/BS degree in Computer Science or equivalent...   \n",
       "4  BA/BS degree or equivalent practical experienc...   \n",
       "\n",
       "                            Preferred Qualifications  \n",
       "0  Experience in the business technology market a...  \n",
       "1  BSEE, BSME or BSIE degree.\\nExperience of usin...  \n",
       "2  Experience partnering or consulting cross-func...  \n",
       "3  Experience as a software developer, architect,...  \n",
       "4  CTS Certification.\\nExperience in the construc...  "
      ]
     },
     "execution_count": 6,
     "metadata": {},
     "output_type": "execute_result"
    }
   ],
   "source": [
    "import pandas as pd\n",
    "\n",
    "file = 'C:\\\\Users\\\\zijie\\\\Desktop\\\\python_test\\\\job_skills.csv'\n",
    "\n",
    "df = pd.read_csv(file)\n",
    "\n",
    "df.head()"
   ]
  },
  {
   "cell_type": "markdown",
   "metadata": {},
   "source": [
    "We can see some of the characteristics from the data\n",
    "\n",
    "- **Company**：the name of the company, mainly Google\n",
    "- **Title**：The title of the job\n",
    "- **Category**\n",
    "- **Location**\n",
    "- **Responsibilities**: Dutiese\n",
    "- **Minimum Qualifications**\n",
    "- **Preferred Qualifications**"
   ]
  },
  {
   "cell_type": "markdown",
   "metadata": {},
   "source": [
    "### Rank the the Programming Language\n",
    "\n",
    "Try to find the number of occurrences of each programming language in 'Minimum Qualifications'.\n",
    "\n",
    "The languages we paied attention to include python, java, c++, php, javascript, object-C, ruby, perl, c, c#, sql, swift, scala, r."
   ]
  },
  {
   "cell_type": "code",
   "execution_count": 7,
   "metadata": {},
   "outputs": [
    {
     "name": "stdout",
     "output_type": "stream",
     "text": [
      "{'python': 97, 'java': 76, 'c++': 53, 'php': 0, 'javascript': 3, 'objective-c': 0, 'ruby': 14, 'perl': 6, 'c': 17, 'c#': 15, 'sql': 0, 'swift': 0, 'scala': 0, 'r': 33}\n"
     ]
    }
   ],
   "source": [
    "import re\n",
    "# Define the list of languages\n",
    "lang_list = ['python', 'java', 'c++', 'php', 'javascript', 'objective-c', 'ruby', 'perl', 'c', 'c#', 'sql', 'swift', 'scala', 'r']\n",
    "\n",
    "# Define statistical functions, input strings, and extract the number of words containing ‘python’, 'java', etc.\n",
    "\n",
    "def lang_count(miniumum_qualifications_string, lang_dict):\n",
    "    '''\n",
    "    This function is called by 'all_lang_count' below, counting the number of times the **'key'** already \n",
    "    in 'lang_dict' appears in the 'minimum_qualifications_string'.\n",
    "    \n",
    "       Input：\n",
    "           miniumum_qualifications_string：str\n",
    "    '''\n",
    "    \n",
    "    # Extract words from 'miniumum_qualifications_string' and use regular expressions： https://docs.python.org/3/library/re.html\n",
    "    \n",
    "    list_upper = []\n",
    "    for i in lang_dict.keys():\n",
    "            m = i.capitalize()\n",
    "            list_upper.append(m)\n",
    "    \n",
    "    for w in re.split(r'[)|:|(|/|;|\\.|,|\\s]', miniumum_qualifications_string):\n",
    "        \n",
    "        if w in lang_dict.keys():\n",
    "            lang_dict[w] += 1\n",
    "        if w in list_upper:\n",
    "            lang_dict[w.lower()] += 1\n",
    "       \n",
    "     \n",
    "# If word in lang_list(Pay attention to the problem of word case), and accumulate the corresponding entries of the dictionary lang_dict\n",
    "        \n",
    "\n",
    "def all_lang_count(df):\n",
    "    '''\n",
    "    Count the number of times the language appears \n",
    "    in the content of the ‘Minimum Qualifications’ column.\n",
    "    \n",
    "       Input：\n",
    "           df：DataFrame，including column 'Minimum Qualifications'.\n",
    "    \n",
    "       Output：\n",
    "           Dictionary type, where key is the language name such as 'python', 'java', etc., \n",
    "           value is the number of times the word appears in 'Minimum Qualifications'.\n",
    "    '''\n",
    "    \n",
    "    # Initialize the dictionary variable 'lang_dict', with the language name in 'lang_list' as the key, the number of occurrences is 0\n",
    "    \n",
    "    lang_list = ['python', 'java', 'c++', 'php', 'javascript', 'objective-c', 'ruby', 'perl', 'c', 'c#', 'sql', 'swift', 'scala', 'r']\n",
    "    \n",
    "    list_0 = [0]*len(lang_list)\n",
    "    lang_dict = dict(zip(lang_list, list_0))\n",
    "\n",
    "    # For each item in the 'Minimum Qualifications', call the 'lang_count' method\n",
    "    for word in df['Minimum Qualifications']:\n",
    "        lang_count(str(word), lang_dict)\n",
    "    \n",
    "    return lang_dict\n",
    "\n",
    "lang_dict = all_lang_count(df)\n",
    "\n",
    "print(lang_dict)"
   ]
  },
  {
   "cell_type": "code",
   "execution_count": 8,
   "metadata": {},
   "outputs": [
    {
     "name": "stdout",
     "output_type": "stream",
     "text": [
      "Requirement already satisfied: matplotlib in c:\\users\\zijie\\anaconda\\lib\\site-packages (3.0.2)\n",
      "Requirement already satisfied: numpy>=1.10.0 in c:\\users\\zijie\\anaconda\\lib\\site-packages (from matplotlib) (1.15.4)\n",
      "Requirement already satisfied: cycler>=0.10 in c:\\users\\zijie\\anaconda\\lib\\site-packages (from matplotlib) (0.10.0)\n",
      "Requirement already satisfied: kiwisolver>=1.0.1 in c:\\users\\zijie\\anaconda\\lib\\site-packages (from matplotlib) (1.0.1)\n",
      "Requirement already satisfied: pyparsing!=2.0.4,!=2.1.2,!=2.1.6,>=2.0.1 in c:\\users\\zijie\\anaconda\\lib\\site-packages (from matplotlib) (2.3.0)\n",
      "Requirement already satisfied: python-dateutil>=2.1 in c:\\users\\zijie\\anaconda\\lib\\site-packages (from matplotlib) (2.7.5)\n",
      "Requirement already satisfied: six in c:\\users\\zijie\\anaconda\\lib\\site-packages (from cycler>=0.10->matplotlib) (1.12.0)\n",
      "Requirement already satisfied: setuptools in c:\\users\\zijie\\anaconda\\lib\\site-packages (from kiwisolver>=1.0.1->matplotlib) (40.6.3)\n"
     ]
    },
    {
     "data": {
      "text/plain": [
       "<matplotlib.axes._subplots.AxesSubplot at 0x25d9e9fb5f8>"
      ]
     },
     "execution_count": 8,
     "metadata": {},
     "output_type": "execute_result"
    },
    {
     "data": {
      "image/png": "[encoded data removed]",
      "text/plain": [
       "<Figure size 432x288 with 1 Axes>"
      ]
     },
     "metadata": {
      "needs_background": "light"
     },
     "output_type": "display_data"
    }
   ],
   "source": [
    "# Sorts lang_dict.items() according to the value of the corresponding item and generates it into the new list variable lang_sorted\n",
    "lang_sorted = sorted(lang_dict.items(),key=lambda x:x[1])\n",
    "# Generate a new DataFrame based on the calculated 'lang_sorted'\n",
    "df_lang_sorted = pd.DataFrame(lang_sorted, columns = ['Language', 'Pop'])\n",
    "\n",
    "df_lang_sorted.set_index([\"Language\"], inplace=True)\n",
    "# Set Language as the index of df_lang_sorted so that it can be used as an abscissa label when drawing\n",
    "\n",
    "!pip install matplotlib\n",
    "import matplotlib\n",
    "# Draw a df_lang_sorted bar chart\n",
    "df_lang_sorted.plot.bar()"
   ]
  },
  {
   "cell_type": "markdown",
   "metadata": {},
   "source": [
    "From the graphical results, we can see which of the top three languages are demand?\n",
    "\n",
    "Answer: Python, Java, C++"
   ]
  },
  {
   "cell_type": "markdown",
   "metadata": {},
   "source": [
    "### Explore data more carefully\n",
    "\n",
    "First, check how many nulls are included in the data."
   ]
  },
  {
   "cell_type": "code",
   "execution_count": 9,
   "metadata": {},
   "outputs": [
    {
     "data": {
      "text/plain": [
       "Company                      0\n",
       "Title                        0\n",
       "Category                     0\n",
       "Location                     0\n",
       "Responsibilities            15\n",
       "Minimum Qualifications      14\n",
       "Preferred Qualifications    14\n",
       "dtype: int64"
      ]
     },
     "execution_count": 9,
     "metadata": {},
     "output_type": "execute_result"
    }
   ],
   "source": [
    "pd.isnull(df).sum()"
   ]
  },
  {
   "cell_type": "markdown",
   "metadata": {},
   "source": [
    "#### Remove null item"
   ]
  },
  {
   "cell_type": "code",
   "execution_count": 10,
   "metadata": {},
   "outputs": [
    {
     "data": {
      "text/html": [
       "<div>\n",
       "<style scoped>\n",
       "    .dataframe tbody tr th:only-of-type {\n",
       "        vertical-align: middle;\n",
       "    }\n",
       "\n",
       "    .dataframe tbody tr th {\n",
       "        vertical-align: top;\n",
       "    }\n",
       "\n",
       "    .dataframe thead th {\n",
       "        text-align: right;\n",
       "    }\n",
       "</style>\n",
       "<table border=\"1\" class=\"dataframe\">\n",
       "  <thead>\n",
       "    <tr style=\"text-align: right;\">\n",
       "      <th></th>\n",
       "      <th>Company</th>\n",
       "      <th>Title</th>\n",
       "      <th>Category</th>\n",
       "      <th>Location</th>\n",
       "      <th>Responsibilities</th>\n",
       "      <th>Minimum Qualifications</th>\n",
       "      <th>Preferred Qualifications</th>\n",
       "    </tr>\n",
       "  </thead>\n",
       "  <tbody>\n",
       "    <tr>\n",
       "      <th>count</th>\n",
       "      <td>1235</td>\n",
       "      <td>1235</td>\n",
       "      <td>1235</td>\n",
       "      <td>1235</td>\n",
       "      <td>1235</td>\n",
       "      <td>1235</td>\n",
       "      <td>1235</td>\n",
       "    </tr>\n",
       "    <tr>\n",
       "      <th>unique</th>\n",
       "      <td>2</td>\n",
       "      <td>779</td>\n",
       "      <td>23</td>\n",
       "      <td>91</td>\n",
       "      <td>801</td>\n",
       "      <td>806</td>\n",
       "      <td>820</td>\n",
       "    </tr>\n",
       "    <tr>\n",
       "      <th>top</th>\n",
       "      <td>Google</td>\n",
       "      <td>Business Intern 2018</td>\n",
       "      <td>Sales &amp; Account Management</td>\n",
       "      <td>Mountain View, CA, United States</td>\n",
       "      <td>Responsibilities and detailed projects will be...</td>\n",
       "      <td>Must be pursuing a full-time MBA program with ...</td>\n",
       "      <td>Previous internship experience in Sales, Adver...</td>\n",
       "    </tr>\n",
       "    <tr>\n",
       "      <th>freq</th>\n",
       "      <td>1212</td>\n",
       "      <td>35</td>\n",
       "      <td>168</td>\n",
       "      <td>187</td>\n",
       "      <td>33</td>\n",
       "      <td>32</td>\n",
       "      <td>32</td>\n",
       "    </tr>\n",
       "  </tbody>\n",
       "</table>\n",
       "</div>"
      ],
      "text/plain": [
       "       Company                 Title                    Category  \\\n",
       "count     1235                  1235                        1235   \n",
       "unique       2                   779                          23   \n",
       "top     Google  Business Intern 2018  Sales & Account Management   \n",
       "freq      1212                    35                         168   \n",
       "\n",
       "                                Location  \\\n",
       "count                               1235   \n",
       "unique                                91   \n",
       "top     Mountain View, CA, United States   \n",
       "freq                                 187   \n",
       "\n",
       "                                         Responsibilities  \\\n",
       "count                                                1235   \n",
       "unique                                                801   \n",
       "top     Responsibilities and detailed projects will be...   \n",
       "freq                                                   33   \n",
       "\n",
       "                                   Minimum Qualifications  \\\n",
       "count                                                1235   \n",
       "unique                                                806   \n",
       "top     Must be pursuing a full-time MBA program with ...   \n",
       "freq                                                   32   \n",
       "\n",
       "                                 Preferred Qualifications  \n",
       "count                                                1235  \n",
       "unique                                                820  \n",
       "top     Previous internship experience in Sales, Adver...  \n",
       "freq                                                   32  "
      ]
     },
     "execution_count": 10,
     "metadata": {},
     "output_type": "execute_result"
    }
   ],
   "source": [
    "df = df.dropna()\n",
    "df.describe()"
   ]
  },
  {
   "cell_type": "markdown",
   "metadata": {},
   "source": [
    "#### Observe the Company column\n",
    "\n",
    "After executing the df.head result, we can see that the unique in the Company column is 2, except for Google, there is another company.\n",
    "\n",
    "Let's see who is the other company!"
   ]
  },
  {
   "cell_type": "code",
   "execution_count": 11,
   "metadata": {},
   "outputs": [
    {
     "data": {
      "text/plain": [
       "Google     1212\n",
       "YouTube      23\n",
       "Name: Company, dtype: int64"
      ]
     },
     "execution_count": 11,
     "metadata": {},
     "output_type": "execute_result"
    }
   ],
   "source": [
    "df['Company'].value_counts()"
   ]
  },
  {
   "cell_type": "markdown",
   "metadata": {},
   "source": [
    "One can see that there is also a YouTube and a gold employer acquired by Google.\n",
    "\n",
    "For the sake of analysis, no matter how much, I removed the YouTube-related line data."
   ]
  },
  {
   "cell_type": "code",
   "execution_count": 12,
   "metadata": {},
   "outputs": [
    {
     "data": {
      "text/html": [
       "<div>\n",
       "<style scoped>\n",
       "    .dataframe tbody tr th:only-of-type {\n",
       "        vertical-align: middle;\n",
       "    }\n",
       "\n",
       "    .dataframe tbody tr th {\n",
       "        vertical-align: top;\n",
       "    }\n",
       "\n",
       "    .dataframe thead th {\n",
       "        text-align: right;\n",
       "    }\n",
       "</style>\n",
       "<table border=\"1\" class=\"dataframe\">\n",
       "  <thead>\n",
       "    <tr style=\"text-align: right;\">\n",
       "      <th></th>\n",
       "      <th>Company</th>\n",
       "      <th>Title</th>\n",
       "      <th>Category</th>\n",
       "      <th>Location</th>\n",
       "      <th>Responsibilities</th>\n",
       "      <th>Minimum Qualifications</th>\n",
       "      <th>Preferred Qualifications</th>\n",
       "    </tr>\n",
       "  </thead>\n",
       "  <tbody>\n",
       "    <tr>\n",
       "      <th>count</th>\n",
       "      <td>1212</td>\n",
       "      <td>1212</td>\n",
       "      <td>1212</td>\n",
       "      <td>1212</td>\n",
       "      <td>1212</td>\n",
       "      <td>1212</td>\n",
       "      <td>1212</td>\n",
       "    </tr>\n",
       "    <tr>\n",
       "      <th>unique</th>\n",
       "      <td>1</td>\n",
       "      <td>761</td>\n",
       "      <td>23</td>\n",
       "      <td>91</td>\n",
       "      <td>784</td>\n",
       "      <td>788</td>\n",
       "      <td>802</td>\n",
       "    </tr>\n",
       "    <tr>\n",
       "      <th>top</th>\n",
       "      <td>Google</td>\n",
       "      <td>Business Intern 2018</td>\n",
       "      <td>Sales &amp; Account Management</td>\n",
       "      <td>Mountain View, CA, United States</td>\n",
       "      <td>Responsibilities and detailed projects will be...</td>\n",
       "      <td>Must be pursuing a full-time MBA program with ...</td>\n",
       "      <td>Previous internship experience in Sales, Adver...</td>\n",
       "    </tr>\n",
       "    <tr>\n",
       "      <th>freq</th>\n",
       "      <td>1212</td>\n",
       "      <td>35</td>\n",
       "      <td>167</td>\n",
       "      <td>187</td>\n",
       "      <td>33</td>\n",
       "      <td>32</td>\n",
       "      <td>32</td>\n",
       "    </tr>\n",
       "  </tbody>\n",
       "</table>\n",
       "</div>"
      ],
      "text/plain": [
       "       Company                 Title                    Category  \\\n",
       "count     1212                  1212                        1212   \n",
       "unique       1                   761                          23   \n",
       "top     Google  Business Intern 2018  Sales & Account Management   \n",
       "freq      1212                    35                         167   \n",
       "\n",
       "                                Location  \\\n",
       "count                               1212   \n",
       "unique                                91   \n",
       "top     Mountain View, CA, United States   \n",
       "freq                                 187   \n",
       "\n",
       "                                         Responsibilities  \\\n",
       "count                                                1212   \n",
       "unique                                                784   \n",
       "top     Responsibilities and detailed projects will be...   \n",
       "freq                                                   33   \n",
       "\n",
       "                                   Minimum Qualifications  \\\n",
       "count                                                1212   \n",
       "unique                                                788   \n",
       "top     Must be pursuing a full-time MBA program with ...   \n",
       "freq                                                   32   \n",
       "\n",
       "                                 Preferred Qualifications  \n",
       "count                                                1212  \n",
       "unique                                                802  \n",
       "top     Previous internship experience in Sales, Adver...  \n",
       "freq                                                   32  "
      ]
     },
     "execution_count": 12,
     "metadata": {},
     "output_type": "execute_result"
    }
   ],
   "source": [
    "# Remove data from Company listed as YouTube in df\n",
    "df = df[df['Company'] == 'Google']\n",
    "df.describe()"
   ]
  },
  {
   "cell_type": "markdown",
   "metadata": {},
   "source": [
    "#### Observe the approximate status of other columns"
   ]
  },
  {
   "cell_type": "code",
   "execution_count": 13,
   "metadata": {},
   "outputs": [
    {
     "data": {
      "text/plain": [
       "Business Intern 2018                                                         35\n",
       "MBA Intern, Summer 2018                                                      34\n",
       "MBA Intern 2018                                                              28\n",
       "BOLD Intern, Summer 2018                                                     21\n",
       "Field Sales Representative, Google Cloud                                     17\n",
       "Interaction Designer                                                         12\n",
       "User Experience Researcher                                                    9\n",
       "Recruiter                                                                     7\n",
       "Partner Sales Engineer, Google Cloud                                          7\n",
       "User Experience Design Intern, Summer 2018                                    7\n",
       "User Experience Research Intern, Summer 2018                                  6\n",
       "Partner Onboarding Manager (Americas)                                         6\n",
       "Deal Manager, Google Cloud                                                    6\n",
       "Field Sales Representative, Google Cloud (DACH)                               6\n",
       "Staffing Manager                                                              5\n",
       "G Suite Strategic Cloud Engineer, Google Professional Services                5\n",
       "Partner Development Manager, Google Cloud                                     5\n",
       "People Consultant                                                             5\n",
       "Machine Learning Product Specialist, Google Cloud (EMEA)                      5\n",
       "UX Design Manager                                                             5\n",
       "Solution Architect, Google Cloud Platform (Apigee)                            5\n",
       "Partner Business Manager (DACH), System Integrator Partnerships (German)      5\n",
       "Staffing Channels Specialist                                                  5\n",
       "Technical Writer, University Graduate                                         5\n",
       "Visual Designer                                                               5\n",
       "Survey Lead, Google Cloud Support                                             4\n",
       "Security Product Specialist, Google Cloud Platform                            4\n",
       "Cluster Manager, Security (English, Chinese)                                  4\n",
       "Communications and Programs Manager, Google Technical Services                4\n",
       "User Experience Engineer Intern, Summer 2018                                  4\n",
       "                                                                             ..\n",
       "Strategic Partner Manager (Nordics), Online Partnerships Group                1\n",
       "Business Lead, Partner Directory, Google Cloud                                1\n",
       "Program Manager, Communications, Google Cloud                                 1\n",
       "Head of Ads Finance, Acquisitions, Google Marketing Solutions                 1\n",
       "Associate Account Strategist, Global Customer Experience (Ukrainian)          1\n",
       "Technical Program Manager, Network Business Operations                        1\n",
       "Technical Program Manager, Data Center Design                                 1\n",
       "Community Manager, Social/Communications, Hardware                            1\n",
       "Head of Creative, Retail Marketing                                            1\n",
       "Associate Contracts Manager, Ads                                              1\n",
       "Associate Account Strategist (Romanian), Google Marketing Solutions Sales     1\n",
       "Analog & CAD Automation Engineer                                              1\n",
       "Data Analyst, Trust and Safety                                                1\n",
       "Industrial Design Intern, Summer 2018                                         1\n",
       "Compensation Analyst                                                          1\n",
       "Program Manager, Audio Visual (AV) Deployments                                1\n",
       "Account Executive, Google Cloud                                               1\n",
       "Business Analyst, Strategic Relationships, Japan                              1\n",
       "Sales and Customer Growth Strategist, Google Cloud (Spanish)                  1\n",
       "Global Supply Chain Manager, Cable and Connector, Consumer Hardware           1\n",
       "Physical Design/Implementation Engineer, ASIC                                 1\n",
       "Trading Analyst, Foreign Exchange                                             1\n",
       "Strategic Partner Manager, Carrier                                            1\n",
       "Measurement Solutions Consultant (English, Japanese)                          1\n",
       "Revenue Accountant, Home Products                                             1\n",
       "Customer Experience Data Scientist, Google Cloud Support                      1\n",
       "Internal Audit, Infrastructure Technology Audit Manager                       1\n",
       "AdMob Technical Sales Lead, Online Partnerships Group                         1\n",
       "Media Research Manager                                                        1\n",
       "Program Manager, Supply Chain Data Management                                 1\n",
       "Name: Title, Length: 761, dtype: int64"
      ]
     },
     "execution_count": 13,
     "metadata": {},
     "output_type": "execute_result"
    }
   ],
   "source": [
    "# Title column\n",
    "df['Title'].value_counts()"
   ]
  },
  {
   "cell_type": "code",
   "execution_count": 14,
   "metadata": {},
   "outputs": [
    {
     "data": {
      "text/plain": [
       "Mountain View, CA, United States    187\n",
       "Sunnyvale, CA, United States        155\n",
       "Dublin, Ireland                      87\n",
       "New York, NY, United States          68\n",
       "London, United Kingdom               61\n",
       "San Francisco, CA, United States     49\n",
       "Singapore                            39\n",
       "Sydney, Australia                    31\n",
       "Tokyo, Japan                         31\n",
       "Shanghai, China                      27\n",
       "Seattle, WA, United States           27\n",
       "Xinyi District, Taiwan               24\n",
       "München, Germany                     23\n",
       "Zürich, Switzerland                  22\n",
       "Paris, France                        20\n",
       "San Bruno, CA, United States         17\n",
       "Austin, TX, United States            17\n",
       "Boulder, CO, United States           15\n",
       "Kirkland, WA, United States          14\n",
       "São Paulo, Brazil                    13\n",
       "Name: Location, dtype: int64"
      ]
     },
     "execution_count": 14,
     "metadata": {},
     "output_type": "execute_result"
    }
   ],
   "source": [
    "df['Location'].value_counts().head(20)\n",
    "# Use value_counts to observe the statistics of the Location column. Note that only the first 20 items are listed."
   ]
  },
  {
   "cell_type": "code",
   "execution_count": 15,
   "metadata": {},
   "outputs": [
    {
     "data": {
      "text/plain": [
       "Sales & Account Management          167\n",
       "Marketing & Communications          161\n",
       "Finance                             112\n",
       "Technical Solutions                 100\n",
       "Business Strategy                    92\n",
       "People Operations                    86\n",
       "User Experience & Design             83\n",
       "Program Management                   72\n",
       "Partnerships                         58\n",
       "Product & Customer Support           48\n",
       "Legal & Government Relations         43\n",
       "Administrative                       39\n",
       "Sales Operations                     31\n",
       "Real Estate & Workplace Services     24\n",
       "Software Engineering                 24\n",
       "Hardware Engineering                 22\n",
       "Manufacturing & Supply Chain         16\n",
       "Technical Infrastructure             11\n",
       "Network Engineering                   6\n",
       "Technical Writing                     5\n",
       "Name: Category, dtype: int64"
      ]
     },
     "execution_count": 15,
     "metadata": {},
     "output_type": "execute_result"
    }
   ],
   "source": [
    "df['Category'].value_counts().head(20)\n",
    "# Use value_counts to observe the statistics of the Location column. Note that only the first 20 items are listed.\n"
   ]
  },
  {
   "cell_type": "markdown",
   "metadata": {},
   "source": [
    "### Working years\n",
    "\n",
    "#### Rough calculation"
   ]
  },
  {
   "cell_type": "code",
   "execution_count": 16,
   "metadata": {},
   "outputs": [
    {
     "name": "stdout",
     "output_type": "stream",
     "text": [
      "{'3': 111, '7': 41, '2': 60, '1': 16, '4': 91, '10': 75, '5': 174, '12': 18, '8': 62, '6': 56, '9': 8, '15': 4, '13': 1, '11': 1, '14': 1}\n"
     ]
    }
   ],
   "source": [
    "from collections import defaultdict\n",
    "\n",
    "# Use defaultdict to build a dictionary with a default value of 0\n",
    "years_exp = defaultdict(lambda: 0)\n",
    "\n",
    "# Define the statistical function, enter the string and extract the number described in the xxx of the period containing the xxx year\n",
    "\n",
    "def compute_years_exp(miniumum_qualifications_string):\n",
    "    for w in re.findall(r'([0-9]+) year', miniumum_qualifications_string):\n",
    "        years_exp[w] += 1\n",
    "        \n",
    "# For each item in the Minimum Qualifications column, call the compute_years_exp method\n",
    "for word in df['Minimum Qualifications']:\n",
    "    compute_years_exp(str(word))\n",
    "    \n",
    "print(dict(years_exp))\n"
   ]
  },
  {
   "cell_type": "code",
   "execution_count": 17,
   "metadata": {},
   "outputs": [
    {
     "data": {
      "text/plain": [
       "<matplotlib.axes._subplots.AxesSubplot at 0x25d9eb3d3c8>"
      ]
     },
     "execution_count": 17,
     "metadata": {},
     "output_type": "execute_result"
    },
    {
     "data": {
      "image/png": "[encoded data removed]",
      "text/plain": [
       "<Figure size 432x288 with 1 Axes>"
      ]
     },
     "metadata": {
      "needs_background": "light"
     },
     "output_type": "display_data"
    }
   ],
   "source": [
    "dict_years_exp = dict(years_exp)\n",
    "# Sorts dict(years_exp) by value and generates it into the new list variable years_exp_sorted\n",
    "years_exp_sorted = sorted(dict_years_exp.items(),key=lambda x:x[1])\n",
    "\n",
    "# Generates a new DataFrame based on the calculated years_exp_sorted with columns named Years and Pop\n",
    "df_years_exp_sorted = pd.DataFrame(years_exp_sorted, columns = ['Language', 'Pop'])\n",
    "\n",
    "# Set Years to the index of df_years_exp_sorted so that it can be used as an abscissa label when drawing\n",
    "df_years_exp_sorted.set_index([\"Language\"], inplace=True)\n",
    "\n",
    "# Draw a df_years_exp_sorted bar chart\n",
    "df_years_exp_sorted.plot.bar()\n"
   ]
  },
  {
   "cell_type": "markdown",
   "metadata": {},
   "source": [
    "From the above graph, what are the top two demands for work experience? \n",
    "\n",
    "Answer: 5，3"
   ]
  },
  {
   "cell_type": "markdown",
   "metadata": {},
   "source": [
    "#### Progressive processing\n",
    "\n",
    "For each row, generate a new column, Minimum_years_experience, from the Minimum Qualifications column of the current row, extract the xxx in front of the xxx year"
   ]
  },
  {
   "cell_type": "code",
   "execution_count": 18,
   "metadata": {},
   "outputs": [
    {
     "data": {
      "text/plain": [
       "(1212, 7)"
      ]
     },
     "execution_count": 18,
     "metadata": {},
     "output_type": "execute_result"
    }
   ],
   "source": [
    "df.shape"
   ]
  },
  {
   "cell_type": "code",
   "execution_count": 19,
   "metadata": {
    "scrolled": true
   },
   "outputs": [],
   "source": [
    "# Generate df['Minimum_years_experience'], each line element is xxx in front of the xxx year in the Minimum Qualifications column of the corresponding row.\n",
    "# Df['Minimum_years_experience'] type of each element is a list\n",
    "# Define the statistical function, enter the string, and extract the number described in the xxx of the period containing the xxx year\n",
    "list_experience = []\n",
    "dict_experience = {'Minimum_years_experience':''}\n",
    "\n",
    "\n",
    "df['Minimum_years_experience'] = None\n",
    "i = 0\n",
    "for word in df['Minimum Qualifications']:\n",
    "    df['Minimum_years_experience'][i] = re.findall(r'([0-9])+ year', word)    \n",
    "    i+=1\n",
    "        "
   ]
  },
  {
   "cell_type": "markdown",
   "metadata": {},
   "source": [
    "From the results, we can see that some lines will extract multiple numbers, but some lines will not be extracted, and further processing is needed."
   ]
  },
  {
   "cell_type": "markdown",
   "metadata": {},
   "source": [
    "#### Null value padding\n",
    "\n",
    "Convert [] in df['Minimum_years_experience'] to [0]"
   ]
  },
  {
   "cell_type": "code",
   "execution_count": 20,
   "metadata": {
    "scrolled": true
   },
   "outputs": [
    {
     "name": "stdout",
     "output_type": "stream",
     "text": [
      "0             [3]\n",
      "1             [7]\n",
      "2       [2, 1, 1]\n",
      "3             [0]\n",
      "4             [4]\n",
      "5             [0]\n",
      "6             [0]\n",
      "7             [5]\n",
      "8             [5]\n",
      "9             [0]\n",
      "10         [4, 4]\n",
      "11            [5]\n",
      "12            [0]\n",
      "13            [5]\n",
      "14            [0]\n",
      "16            [0]\n",
      "17            [3]\n",
      "18         [5, 2]\n",
      "19            [0]\n",
      "20            [0]\n",
      "21            [0]\n",
      "22            [5]\n",
      "23         [7, 5]\n",
      "24            [0]\n",
      "25            [0]\n",
      "26            [5]\n",
      "27            [0]\n",
      "28         [0, 5]\n",
      "29            [3]\n",
      "30            [0]\n",
      "          ...    \n",
      "1219          [0]\n",
      "1220          [0]\n",
      "1221          [0]\n",
      "1222          [0]\n",
      "1223          [0]\n",
      "1224          [0]\n",
      "1225          [0]\n",
      "1227          [0]\n",
      "1228          [0]\n",
      "1229          [0]\n",
      "1230          [0]\n",
      "1231          [0]\n",
      "1232          [0]\n",
      "1233          [0]\n",
      "1234          [0]\n",
      "1235          [0]\n",
      "1236          [0]\n",
      "1237          [0]\n",
      "1238          [0]\n",
      "1239          [0]\n",
      "1240          [0]\n",
      "1241          [0]\n",
      "1242          [0]\n",
      "1243          [0]\n",
      "1244          [0]\n",
      "1245          [0]\n",
      "1246          [0]\n",
      "1247          [0]\n",
      "1248          [0]\n",
      "1249          [0]\n",
      "Name: Minimum_years_experience, Length: 1212, dtype: object\n"
     ]
    }
   ],
   "source": [
    "def trans(number):\n",
    "    if number == []:\n",
    "        number = [0]\n",
    "        return number\n",
    "    if number == None:\n",
    "        number = [0]\n",
    "        return number\n",
    "    else:\n",
    "        return number\n",
    "    \n",
    "# Convert [] in df['Minimum_years_experience'] to [0], (Hint: apply can be used)\n",
    "\n",
    "df['Minimum_years_experience'] = df['Minimum_years_experience'].apply(trans)\n",
    "print(df['Minimum_years_experience'])\n",
    "\n",
    "# df.head()"
   ]
  },
  {
   "cell_type": "markdown",
   "metadata": {},
   "source": [
    "#### Deal with element with many values\n",
    "\n",
    "When multiple elements appear in df['Minimum_years_experience'], such as [x, y, z], convert df['Minimum_years_experience'] to [max(x, y, z)]"
   ]
  },
  {
   "cell_type": "code",
   "execution_count": 21,
   "metadata": {},
   "outputs": [
    {
     "data": {
      "text/html": [
       "<div>\n",
       "<style scoped>\n",
       "    .dataframe tbody tr th:only-of-type {\n",
       "        vertical-align: middle;\n",
       "    }\n",
       "\n",
       "    .dataframe tbody tr th {\n",
       "        vertical-align: top;\n",
       "    }\n",
       "\n",
       "    .dataframe thead th {\n",
       "        text-align: right;\n",
       "    }\n",
       "</style>\n",
       "<table border=\"1\" class=\"dataframe\">\n",
       "  <thead>\n",
       "    <tr style=\"text-align: right;\">\n",
       "      <th></th>\n",
       "      <th>Company</th>\n",
       "      <th>Title</th>\n",
       "      <th>Category</th>\n",
       "      <th>Location</th>\n",
       "      <th>Responsibilities</th>\n",
       "      <th>Minimum Qualifications</th>\n",
       "      <th>Preferred Qualifications</th>\n",
       "      <th>Minimum_years_experience</th>\n",
       "    </tr>\n",
       "  </thead>\n",
       "  <tbody>\n",
       "    <tr>\n",
       "      <th>0</th>\n",
       "      <td>Google</td>\n",
       "      <td>Google Cloud Program Manager</td>\n",
       "      <td>Program Management</td>\n",
       "      <td>Singapore</td>\n",
       "      <td>Shape, shepherd, ship, and show technical prog...</td>\n",
       "      <td>BA/BS degree or equivalent practical experienc...</td>\n",
       "      <td>Experience in the business technology market a...</td>\n",
       "      <td>3</td>\n",
       "    </tr>\n",
       "    <tr>\n",
       "      <th>1</th>\n",
       "      <td>Google</td>\n",
       "      <td>Supplier Development Engineer (SDE), Cable/Con...</td>\n",
       "      <td>Manufacturing &amp; Supply Chain</td>\n",
       "      <td>Shanghai, China</td>\n",
       "      <td>Drive cross-functional activities in the suppl...</td>\n",
       "      <td>BS degree in an Engineering discipline or equi...</td>\n",
       "      <td>BSEE, BSME or BSIE degree.\\nExperience of usin...</td>\n",
       "      <td>7</td>\n",
       "    </tr>\n",
       "    <tr>\n",
       "      <th>2</th>\n",
       "      <td>Google</td>\n",
       "      <td>Data Analyst, Product and Tools Operations, Go...</td>\n",
       "      <td>Technical Solutions</td>\n",
       "      <td>New York, NY, United States</td>\n",
       "      <td>Collect and analyze data to draw insight and i...</td>\n",
       "      <td>Bachelor’s degree in Business, Economics, Stat...</td>\n",
       "      <td>Experience partnering or consulting cross-func...</td>\n",
       "      <td>2</td>\n",
       "    </tr>\n",
       "    <tr>\n",
       "      <th>3</th>\n",
       "      <td>Google</td>\n",
       "      <td>Developer Advocate, Partner Engineering</td>\n",
       "      <td>Developer Relations</td>\n",
       "      <td>Mountain View, CA, United States</td>\n",
       "      <td>Work one-on-one with the top Android, iOS, and...</td>\n",
       "      <td>BA/BS degree in Computer Science or equivalent...</td>\n",
       "      <td>Experience as a software developer, architect,...</td>\n",
       "      <td>0</td>\n",
       "    </tr>\n",
       "    <tr>\n",
       "      <th>4</th>\n",
       "      <td>Google</td>\n",
       "      <td>Program Manager, Audio Visual (AV) Deployments</td>\n",
       "      <td>Program Management</td>\n",
       "      <td>Sunnyvale, CA, United States</td>\n",
       "      <td>Plan requirements with internal customers.\\nPr...</td>\n",
       "      <td>BA/BS degree or equivalent practical experienc...</td>\n",
       "      <td>CTS Certification.\\nExperience in the construc...</td>\n",
       "      <td>4</td>\n",
       "    </tr>\n",
       "  </tbody>\n",
       "</table>\n",
       "</div>"
      ],
      "text/plain": [
       "  Company                                              Title  \\\n",
       "0  Google                       Google Cloud Program Manager   \n",
       "1  Google  Supplier Development Engineer (SDE), Cable/Con...   \n",
       "2  Google  Data Analyst, Product and Tools Operations, Go...   \n",
       "3  Google            Developer Advocate, Partner Engineering   \n",
       "4  Google     Program Manager, Audio Visual (AV) Deployments   \n",
       "\n",
       "                       Category                          Location  \\\n",
       "0            Program Management                         Singapore   \n",
       "1  Manufacturing & Supply Chain                   Shanghai, China   \n",
       "2           Technical Solutions       New York, NY, United States   \n",
       "3           Developer Relations  Mountain View, CA, United States   \n",
       "4            Program Management      Sunnyvale, CA, United States   \n",
       "\n",
       "                                    Responsibilities  \\\n",
       "0  Shape, shepherd, ship, and show technical prog...   \n",
       "1  Drive cross-functional activities in the suppl...   \n",
       "2  Collect and analyze data to draw insight and i...   \n",
       "3  Work one-on-one with the top Android, iOS, and...   \n",
       "4  Plan requirements with internal customers.\\nPr...   \n",
       "\n",
       "                              Minimum Qualifications  \\\n",
       "0  BA/BS degree or equivalent practical experienc...   \n",
       "1  BS degree in an Engineering discipline or equi...   \n",
       "2  Bachelor’s degree in Business, Economics, Stat...   \n",
       "3  BA/BS degree in Computer Science or equivalent...   \n",
       "4  BA/BS degree or equivalent practical experienc...   \n",
       "\n",
       "                            Preferred Qualifications Minimum_years_experience  \n",
       "0  Experience in the business technology market a...                        3  \n",
       "1  BSEE, BSME or BSIE degree.\\nExperience of usin...                        7  \n",
       "2  Experience partnering or consulting cross-func...                        2  \n",
       "3  Experience as a software developer, architect,...                        0  \n",
       "4  CTS Certification.\\nExperience in the construc...                        4  "
      ]
     },
     "execution_count": 21,
     "metadata": {},
     "output_type": "execute_result"
    }
   ],
   "source": [
    "def max_num(number):\n",
    "    number = max(number)\n",
    "    return number\n",
    "       \n",
    "df['Minimum_years_experience'] = df['Minimum_years_experience'].apply(max_num)\n",
    "# print(df['Minimum_years_experience'].shape)\n",
    "\n",
    "df.head()"
   ]
  },
  {
   "cell_type": "code",
   "execution_count": 22,
   "metadata": {
    "scrolled": true
   },
   "outputs": [
    {
     "name": "stdout",
     "output_type": "stream",
     "text": [
      "0       3\n",
      "1       7\n",
      "2       2\n",
      "3       0\n",
      "4       4\n",
      "5       0\n",
      "6       0\n",
      "7       5\n",
      "8       5\n",
      "9       0\n",
      "10      4\n",
      "11      5\n",
      "12      0\n",
      "13      5\n",
      "14      0\n",
      "16      0\n",
      "17      3\n",
      "18      5\n",
      "19      0\n",
      "20      0\n",
      "21      0\n",
      "22      5\n",
      "23      7\n",
      "24      0\n",
      "25      0\n",
      "26      5\n",
      "27      0\n",
      "28      5\n",
      "29      3\n",
      "30      0\n",
      "       ..\n",
      "1219    0\n",
      "1220    0\n",
      "1221    0\n",
      "1222    0\n",
      "1223    0\n",
      "1224    0\n",
      "1225    0\n",
      "1227    0\n",
      "1228    0\n",
      "1229    0\n",
      "1230    0\n",
      "1231    0\n",
      "1232    0\n",
      "1233    0\n",
      "1234    0\n",
      "1235    0\n",
      "1236    0\n",
      "1237    0\n",
      "1238    0\n",
      "1239    0\n",
      "1240    0\n",
      "1241    0\n",
      "1242    0\n",
      "1243    0\n",
      "1244    0\n",
      "1245    0\n",
      "1246    0\n",
      "1247    0\n",
      "1248    0\n",
      "1249    0\n",
      "Name: Minimum_years_experience, Length: 1212, dtype: int32\n"
     ]
    },
    {
     "data": {
      "text/plain": [
       "<matplotlib.axes._subplots.AxesSubplot at 0x25d9ebd4b38>"
      ]
     },
     "execution_count": 22,
     "metadata": {},
     "output_type": "execute_result"
    },
    {
     "data": {
      "image/png": "[encoded data removed]",
      "text/plain": [
       "<Figure size 432x288 with 1 Axes>"
      ]
     },
     "metadata": {
      "needs_background": "light"
     },
     "output_type": "display_data"
    }
   ],
   "source": [
    "import matplotlib\n",
    "import matplotlib.pyplot as plt\n",
    "import numpy as np\n",
    "import pandas as pd\n",
    "\n",
    "\n",
    "df['Minimum_years_experience'] = df['Minimum_years_experience'].astype(int)\n",
    "print(df['Minimum_years_experience'])\n",
    "df['Minimum_years_experience'].plot.box()\n",
    "\n",
    "# A box plot is drawn based on the df['Minimum_years_experience'] data.\n",
    "# Note: If the element type is not a numeric type, drawing a box plot will fail and you need to use astype to convert the element type.\n"
   ]
  },
  {
   "cell_type": "markdown",
   "metadata": {},
   "source": [
    "## From the box plot results, what is the median of the working years of demand?\n",
    "\n",
    "Answer: 3"
   ]
  },
  {
   "cell_type": "markdown",
   "metadata": {},
   "source": [
    "### View analyst post related data\n",
    "\n",
    "We look for job requirements from the Title that contain the 'Analyst' keyword."
   ]
  },
  {
   "cell_type": "code",
   "execution_count": 23,
   "metadata": {},
   "outputs": [],
   "source": [
    "# Reset the index order of the Dataframe\n",
    "df = df.reset_index(drop=True) "
   ]
  },
  {
   "cell_type": "code",
   "execution_count": 24,
   "metadata": {},
   "outputs": [
    {
     "data": {
      "text/html": [
       "<div>\n",
       "<style scoped>\n",
       "    .dataframe tbody tr th:only-of-type {\n",
       "        vertical-align: middle;\n",
       "    }\n",
       "\n",
       "    .dataframe tbody tr th {\n",
       "        vertical-align: top;\n",
       "    }\n",
       "\n",
       "    .dataframe thead th {\n",
       "        text-align: right;\n",
       "    }\n",
       "</style>\n",
       "<table border=\"1\" class=\"dataframe\">\n",
       "  <thead>\n",
       "    <tr style=\"text-align: right;\">\n",
       "      <th></th>\n",
       "      <th>Company</th>\n",
       "      <th>Title</th>\n",
       "      <th>Category</th>\n",
       "      <th>Location</th>\n",
       "      <th>Responsibilities</th>\n",
       "      <th>Minimum Qualifications</th>\n",
       "      <th>Preferred Qualifications</th>\n",
       "      <th>Minimum_years_experience</th>\n",
       "    </tr>\n",
       "  </thead>\n",
       "  <tbody>\n",
       "    <tr>\n",
       "      <th>0</th>\n",
       "      <td>Google</td>\n",
       "      <td>Data Analyst, Product and Tools Operations, Go...</td>\n",
       "      <td>Technical Solutions</td>\n",
       "      <td>New York, NY, United States</td>\n",
       "      <td>Collect and analyze data to draw insight and i...</td>\n",
       "      <td>Bachelor’s degree in Business, Economics, Stat...</td>\n",
       "      <td>Experience partnering or consulting cross-func...</td>\n",
       "      <td>2</td>\n",
       "    </tr>\n",
       "    <tr>\n",
       "      <th>1</th>\n",
       "      <td>Google</td>\n",
       "      <td>Data Analyst, Consumer Hardware</td>\n",
       "      <td>Product &amp; Customer Support</td>\n",
       "      <td>Mountain View, CA, United States</td>\n",
       "      <td>Build and maintain the Support Operations Anal...</td>\n",
       "      <td>BA/BS degree in Computer Science, Engineering,...</td>\n",
       "      <td>Experience in designing and executing structur...</td>\n",
       "      <td>4</td>\n",
       "    </tr>\n",
       "    <tr>\n",
       "      <th>2</th>\n",
       "      <td>Google</td>\n",
       "      <td>Quantitative Analyst, Ads Quality</td>\n",
       "      <td>Product &amp; Customer Support</td>\n",
       "      <td>Zürich, Switzerland</td>\n",
       "      <td>Apply advanced statistical methods and work wi...</td>\n",
       "      <td>PhD in Statistics or Econometrics or a related...</td>\n",
       "      <td>Relevant industry or research experience.\\nFam...</td>\n",
       "      <td>0</td>\n",
       "    </tr>\n",
       "    <tr>\n",
       "      <th>3</th>\n",
       "      <td>Google</td>\n",
       "      <td>Quantitative Analyst Lead, Trust and Safety</td>\n",
       "      <td>Product &amp; Customer Support</td>\n",
       "      <td>Zürich, Switzerland</td>\n",
       "      <td>Partner with cross-functional stakeholders to ...</td>\n",
       "      <td>PhD degree in Statistics, Econometrics, relate...</td>\n",
       "      <td>Relevant and extensive PhD research or work ex...</td>\n",
       "      <td>5</td>\n",
       "    </tr>\n",
       "    <tr>\n",
       "      <th>4</th>\n",
       "      <td>Google</td>\n",
       "      <td>Quantitative Analyst, Trust and Safety</td>\n",
       "      <td>Product &amp; Customer Support</td>\n",
       "      <td>Zürich, Switzerland</td>\n",
       "      <td>Work with data sets and solve non-routine anal...</td>\n",
       "      <td>Master's degree in a quantitative discipline o...</td>\n",
       "      <td>PhD in a quantitative discipline.\\nExperience ...</td>\n",
       "      <td>2</td>\n",
       "    </tr>\n",
       "  </tbody>\n",
       "</table>\n",
       "</div>"
      ],
      "text/plain": [
       "  Company                                              Title  \\\n",
       "0  Google  Data Analyst, Product and Tools Operations, Go...   \n",
       "1  Google                    Data Analyst, Consumer Hardware   \n",
       "2  Google                  Quantitative Analyst, Ads Quality   \n",
       "3  Google        Quantitative Analyst Lead, Trust and Safety   \n",
       "4  Google             Quantitative Analyst, Trust and Safety   \n",
       "\n",
       "                     Category                          Location  \\\n",
       "0         Technical Solutions       New York, NY, United States   \n",
       "1  Product & Customer Support  Mountain View, CA, United States   \n",
       "2  Product & Customer Support               Zürich, Switzerland   \n",
       "3  Product & Customer Support               Zürich, Switzerland   \n",
       "4  Product & Customer Support               Zürich, Switzerland   \n",
       "\n",
       "                                    Responsibilities  \\\n",
       "0  Collect and analyze data to draw insight and i...   \n",
       "1  Build and maintain the Support Operations Anal...   \n",
       "2  Apply advanced statistical methods and work wi...   \n",
       "3  Partner with cross-functional stakeholders to ...   \n",
       "4  Work with data sets and solve non-routine anal...   \n",
       "\n",
       "                              Minimum Qualifications  \\\n",
       "0  Bachelor’s degree in Business, Economics, Stat...   \n",
       "1  BA/BS degree in Computer Science, Engineering,...   \n",
       "2  PhD in Statistics or Econometrics or a related...   \n",
       "3  PhD degree in Statistics, Econometrics, relate...   \n",
       "4  Master's degree in a quantitative discipline o...   \n",
       "\n",
       "                            Preferred Qualifications  Minimum_years_experience  \n",
       "0  Experience partnering or consulting cross-func...                         2  \n",
       "1  Experience in designing and executing structur...                         4  \n",
       "2  Relevant industry or research experience.\\nFam...                         0  \n",
       "3  Relevant and extensive PhD research or work ex...                         5  \n",
       "4  PhD in a quantitative discipline.\\nExperience ...                         2  "
      ]
     },
     "execution_count": 24,
     "metadata": {},
     "output_type": "execute_result"
    }
   ],
   "source": [
    "# Find the position containing the 'Analyst' keyword from the Title and store it in df_Analyst.\n",
    "\n",
    "list_2 = []\n",
    "i = -1\n",
    "for word in df['Title']:\n",
    "    i += 1\n",
    "    if 'Analyst' not in word:\n",
    "        list_2.append(i)\n",
    "\n",
    "df_Analyst = df.drop(list_2)      \n",
    "\n",
    "# Reset the index order of the Dataframe\n",
    "df_Analyst = df_Analyst.reset_index(drop=True) \n",
    "df_Analyst.head()"
   ]
  },
  {
   "cell_type": "code",
   "execution_count": 25,
   "metadata": {},
   "outputs": [
    {
     "data": {
      "text/plain": [
       "Mountain View, CA, United States    18\n",
       "Sunnyvale, CA, United States        16\n",
       "Zürich, Switzerland                  6\n",
       "Dublin, Ireland                      5\n",
       "London, United Kingdom               4\n",
       "San Bruno, CA, United States         2\n",
       "New York, NY, United States          2\n",
       "Paris, France                        1\n",
       "Hyderabad, India                     1\n",
       "Seattle, WA, United States           1\n",
       "Singapore                            1\n",
       "Hamburg, Germany                     1\n",
       "Beijing, China                       1\n",
       "Tokyo, Japan                         1\n",
       "Tel Aviv-Yafo, Israel                1\n",
       "Kirkland, WA, United States          1\n",
       "Name: Location, dtype: int64"
      ]
     },
     "execution_count": 25,
     "metadata": {},
     "output_type": "execute_result"
    }
   ],
   "source": [
    "# View the location distribution of analyst needs\n",
    "df_Analyst['Location'].value_counts()"
   ]
  },
  {
   "cell_type": "markdown",
   "metadata": {},
   "source": [
    "#### Add country information\n",
    "\n",
    "In the location information, the last comma is followed by the country name, and we further group the Location.\n",
    "Generate a new column 'Country' in df_Analyst. From Location, extract the value after the last comma as the value of the column."
   ]
  },
  {
   "cell_type": "code",
   "execution_count": 26,
   "metadata": {
    "scrolled": true
   },
   "outputs": [
    {
     "name": "stderr",
     "output_type": "stream",
     "text": [
      "C:\\Users\\zijie\\anaconda\\lib\\site-packages\\ipykernel_launcher.py:12: SettingWithCopyWarning: \n",
      "A value is trying to be set on a copy of a slice from a DataFrame\n",
      "\n",
      "See the caveats in the documentation: http://pandas.pydata.org/pandas-docs/stable/indexing.html#indexing-view-versus-copy\n",
      "  if sys.path[0] == '':\n"
     ]
    },
    {
     "data": {
      "text/plain": [
       "[United States]     40\n",
       "[Switzerland]        6\n",
       "[Ireland]            5\n",
       "[United Kingdom]     4\n",
       "[Germany]            1\n",
       "[Japan]              1\n",
       "[India]              1\n",
       "[France]             1\n",
       "[Israel]             1\n",
       "[Singapore]          1\n",
       "[China]              1\n",
       "Name: Country, dtype: int64"
      ]
     },
     "execution_count": 26,
     "metadata": {},
     "output_type": "execute_result"
    }
   ],
   "source": [
    "df_Analyst['Country'] = None\n",
    "i = 0\n",
    "for word in df_Analyst['Location']:\n",
    "    if ',' in word:\n",
    "        list_4 = re.findall(r', (\\w* \\w*)', word)\n",
    "        if list_4 == []:\n",
    "            list_4 = re.findall(r', (\\w*)', word)\n",
    "    else:\n",
    "        list_4 = [word]\n",
    "        \n",
    "            \n",
    "    df_Analyst['Country'][i] = list_4\n",
    "    i += 1\n",
    "\n",
    "df_Analyst['Country'].value_counts()"
   ]
  },
  {
   "cell_type": "markdown",
   "metadata": {},
   "source": [
    "What are the top 4 countries in demand?\n",
    "\n",
    "Answer：United States, Switzerland, Ireland, United Kingdom"
   ]
  },
  {
   "cell_type": "markdown",
   "metadata": {},
   "source": [
    "#### Statistical analysts' language skills needs"
   ]
  },
  {
   "cell_type": "code",
   "execution_count": 27,
   "metadata": {},
   "outputs": [
    {
     "name": "stdout",
     "output_type": "stream",
     "text": [
      "{'python': 13, 'java': 1, 'c++': 1, 'php': 0, 'javascript': 0, 'objective-c': 0, 'ruby': 0, 'perl': 0, 'c': 0, 'c#': 0, 'sql': 0, 'swift': 0, 'scala': 0, 'r': 17}\n"
     ]
    }
   ],
   "source": [
    "print(all_lang_count(df_Analyst))"
   ]
  },
  {
   "cell_type": "markdown",
   "metadata": {},
   "source": [
    "Which language is the most demanding for data analysts?\n",
    "\n",
    "Answer: r"
   ]
  },
  {
   "cell_type": "markdown",
   "metadata": {},
   "source": [
    "#### Pivot table\n",
    "\n",
    "Build a pivot table to explore the needs of data analysts in different countries.\n",
    "\n",
    "The pivot table index is a secondary index, the first level is the country ('Country'), the second level is the job category ('Category'), and the values are 'Minimum_years_experience'. Define mean as aggfunc."
   ]
  },
  {
   "cell_type": "code",
   "execution_count": 28,
   "metadata": {
    "scrolled": true
   },
   "outputs": [
    {
     "name": "stderr",
     "output_type": "stream",
     "text": [
      "C:\\Users\\zijie\\anaconda\\lib\\site-packages\\ipykernel_launcher.py:4: SettingWithCopyWarning: \n",
      "A value is trying to be set on a copy of a slice from a DataFrame\n",
      "\n",
      "See the caveats in the documentation: http://pandas.pydata.org/pandas-docs/stable/indexing.html#indexing-view-versus-copy\n",
      "  after removing the cwd from sys.path.\n"
     ]
    },
    {
     "data": {
      "text/html": [
       "<div>\n",
       "<style scoped>\n",
       "    .dataframe tbody tr th:only-of-type {\n",
       "        vertical-align: middle;\n",
       "    }\n",
       "\n",
       "    .dataframe tbody tr th {\n",
       "        vertical-align: top;\n",
       "    }\n",
       "\n",
       "    .dataframe thead th {\n",
       "        text-align: right;\n",
       "    }\n",
       "</style>\n",
       "<table border=\"1\" class=\"dataframe\">\n",
       "  <thead>\n",
       "    <tr style=\"text-align: right;\">\n",
       "      <th></th>\n",
       "      <th>Company</th>\n",
       "      <th>Title</th>\n",
       "      <th>Category</th>\n",
       "      <th>Location</th>\n",
       "      <th>Responsibilities</th>\n",
       "      <th>Minimum Qualifications</th>\n",
       "      <th>Preferred Qualifications</th>\n",
       "      <th>Minimum_years_experience</th>\n",
       "      <th>Country</th>\n",
       "    </tr>\n",
       "  </thead>\n",
       "  <tbody>\n",
       "    <tr>\n",
       "      <th>0</th>\n",
       "      <td>Google</td>\n",
       "      <td>Data Analyst, Product and Tools Operations, Go...</td>\n",
       "      <td>Technical Solutions</td>\n",
       "      <td>New York, NY, United States</td>\n",
       "      <td>Collect and analyze data to draw insight and i...</td>\n",
       "      <td>Bachelor’s degree in Business, Economics, Stat...</td>\n",
       "      <td>Experience partnering or consulting cross-func...</td>\n",
       "      <td>2</td>\n",
       "      <td>United States</td>\n",
       "    </tr>\n",
       "    <tr>\n",
       "      <th>1</th>\n",
       "      <td>Google</td>\n",
       "      <td>Data Analyst, Consumer Hardware</td>\n",
       "      <td>Product &amp; Customer Support</td>\n",
       "      <td>Mountain View, CA, United States</td>\n",
       "      <td>Build and maintain the Support Operations Anal...</td>\n",
       "      <td>BA/BS degree in Computer Science, Engineering,...</td>\n",
       "      <td>Experience in designing and executing structur...</td>\n",
       "      <td>4</td>\n",
       "      <td>United States</td>\n",
       "    </tr>\n",
       "    <tr>\n",
       "      <th>2</th>\n",
       "      <td>Google</td>\n",
       "      <td>Quantitative Analyst, Ads Quality</td>\n",
       "      <td>Product &amp; Customer Support</td>\n",
       "      <td>Zürich, Switzerland</td>\n",
       "      <td>Apply advanced statistical methods and work wi...</td>\n",
       "      <td>PhD in Statistics or Econometrics or a related...</td>\n",
       "      <td>Relevant industry or research experience.\\nFam...</td>\n",
       "      <td>0</td>\n",
       "      <td>Switzerland</td>\n",
       "    </tr>\n",
       "    <tr>\n",
       "      <th>3</th>\n",
       "      <td>Google</td>\n",
       "      <td>Quantitative Analyst Lead, Trust and Safety</td>\n",
       "      <td>Product &amp; Customer Support</td>\n",
       "      <td>Zürich, Switzerland</td>\n",
       "      <td>Partner with cross-functional stakeholders to ...</td>\n",
       "      <td>PhD degree in Statistics, Econometrics, relate...</td>\n",
       "      <td>Relevant and extensive PhD research or work ex...</td>\n",
       "      <td>5</td>\n",
       "      <td>Switzerland</td>\n",
       "    </tr>\n",
       "    <tr>\n",
       "      <th>4</th>\n",
       "      <td>Google</td>\n",
       "      <td>Quantitative Analyst, Trust and Safety</td>\n",
       "      <td>Product &amp; Customer Support</td>\n",
       "      <td>Zürich, Switzerland</td>\n",
       "      <td>Work with data sets and solve non-routine anal...</td>\n",
       "      <td>Master's degree in a quantitative discipline o...</td>\n",
       "      <td>PhD in a quantitative discipline.\\nExperience ...</td>\n",
       "      <td>2</td>\n",
       "      <td>Switzerland</td>\n",
       "    </tr>\n",
       "  </tbody>\n",
       "</table>\n",
       "</div>"
      ],
      "text/plain": [
       "  Company                                              Title  \\\n",
       "0  Google  Data Analyst, Product and Tools Operations, Go...   \n",
       "1  Google                    Data Analyst, Consumer Hardware   \n",
       "2  Google                  Quantitative Analyst, Ads Quality   \n",
       "3  Google        Quantitative Analyst Lead, Trust and Safety   \n",
       "4  Google             Quantitative Analyst, Trust and Safety   \n",
       "\n",
       "                     Category                          Location  \\\n",
       "0         Technical Solutions       New York, NY, United States   \n",
       "1  Product & Customer Support  Mountain View, CA, United States   \n",
       "2  Product & Customer Support               Zürich, Switzerland   \n",
       "3  Product & Customer Support               Zürich, Switzerland   \n",
       "4  Product & Customer Support               Zürich, Switzerland   \n",
       "\n",
       "                                    Responsibilities  \\\n",
       "0  Collect and analyze data to draw insight and i...   \n",
       "1  Build and maintain the Support Operations Anal...   \n",
       "2  Apply advanced statistical methods and work wi...   \n",
       "3  Partner with cross-functional stakeholders to ...   \n",
       "4  Work with data sets and solve non-routine anal...   \n",
       "\n",
       "                              Minimum Qualifications  \\\n",
       "0  Bachelor’s degree in Business, Economics, Stat...   \n",
       "1  BA/BS degree in Computer Science, Engineering,...   \n",
       "2  PhD in Statistics or Econometrics or a related...   \n",
       "3  PhD degree in Statistics, Econometrics, relate...   \n",
       "4  Master's degree in a quantitative discipline o...   \n",
       "\n",
       "                            Preferred Qualifications  \\\n",
       "0  Experience partnering or consulting cross-func...   \n",
       "1  Experience in designing and executing structur...   \n",
       "2  Relevant industry or research experience.\\nFam...   \n",
       "3  Relevant and extensive PhD research or work ex...   \n",
       "4  PhD in a quantitative discipline.\\nExperience ...   \n",
       "\n",
       "   Minimum_years_experience        Country  \n",
       "0                         2  United States  \n",
       "1                         4  United States  \n",
       "2                         0    Switzerland  \n",
       "3                         5    Switzerland  \n",
       "4                         2    Switzerland  "
      ]
     },
     "execution_count": 28,
     "metadata": {},
     "output_type": "execute_result"
    }
   ],
   "source": [
    "# Convert a list type element to a numeric type\n",
    "i = 0\n",
    "for word in df_Analyst['Country']:\n",
    "    df_Analyst['Country'][i] = max(word)\n",
    "    i += 1\n",
    "df_Analyst.head()"
   ]
  },
  {
   "cell_type": "code",
   "execution_count": 30,
   "metadata": {},
   "outputs": [
    {
     "data": {
      "text/html": [
       "<div>\n",
       "<style scoped>\n",
       "    .dataframe tbody tr th:only-of-type {\n",
       "        vertical-align: middle;\n",
       "    }\n",
       "\n",
       "    .dataframe tbody tr th {\n",
       "        vertical-align: top;\n",
       "    }\n",
       "\n",
       "    .dataframe thead th {\n",
       "        text-align: right;\n",
       "    }\n",
       "</style>\n",
       "<table border=\"1\" class=\"dataframe\">\n",
       "  <thead>\n",
       "    <tr style=\"text-align: right;\">\n",
       "      <th></th>\n",
       "      <th></th>\n",
       "      <th>Minimum_years_experience</th>\n",
       "    </tr>\n",
       "    <tr>\n",
       "      <th>Country</th>\n",
       "      <th>Category</th>\n",
       "      <th></th>\n",
       "    </tr>\n",
       "  </thead>\n",
       "  <tbody>\n",
       "    <tr>\n",
       "      <th>China</th>\n",
       "      <th>Partnerships</th>\n",
       "      <td>4.000000</td>\n",
       "    </tr>\n",
       "    <tr>\n",
       "      <th>France</th>\n",
       "      <th>Sales Operations</th>\n",
       "      <td>0.000000</td>\n",
       "    </tr>\n",
       "    <tr>\n",
       "      <th>Germany</th>\n",
       "      <th>Sales Operations</th>\n",
       "      <td>0.000000</td>\n",
       "    </tr>\n",
       "    <tr>\n",
       "      <th>India</th>\n",
       "      <th>Product &amp; Customer Support</th>\n",
       "      <td>5.000000</td>\n",
       "    </tr>\n",
       "    <tr>\n",
       "      <th rowspan=\"4\" valign=\"top\">Ireland</th>\n",
       "      <th>Finance</th>\n",
       "      <td>2.000000</td>\n",
       "    </tr>\n",
       "    <tr>\n",
       "      <th>Legal &amp; Government Relations</th>\n",
       "      <td>0.000000</td>\n",
       "    </tr>\n",
       "    <tr>\n",
       "      <th>Product &amp; Customer Support</th>\n",
       "      <td>0.000000</td>\n",
       "    </tr>\n",
       "    <tr>\n",
       "      <th>Sales &amp; Account Management</th>\n",
       "      <td>4.000000</td>\n",
       "    </tr>\n",
       "    <tr>\n",
       "      <th>Israel</th>\n",
       "      <th>Business Strategy</th>\n",
       "      <td>4.000000</td>\n",
       "    </tr>\n",
       "    <tr>\n",
       "      <th>Japan</th>\n",
       "      <th>Business Strategy</th>\n",
       "      <td>3.000000</td>\n",
       "    </tr>\n",
       "    <tr>\n",
       "      <th>Singapore</th>\n",
       "      <th>Finance</th>\n",
       "      <td>6.000000</td>\n",
       "    </tr>\n",
       "    <tr>\n",
       "      <th>Switzerland</th>\n",
       "      <th>Product &amp; Customer Support</th>\n",
       "      <td>2.666667</td>\n",
       "    </tr>\n",
       "    <tr>\n",
       "      <th rowspan=\"3\" valign=\"top\">United Kingdom</th>\n",
       "      <th>Finance</th>\n",
       "      <td>0.000000</td>\n",
       "    </tr>\n",
       "    <tr>\n",
       "      <th>Marketing &amp; Communications</th>\n",
       "      <td>6.000000</td>\n",
       "    </tr>\n",
       "    <tr>\n",
       "      <th>Sales Operations</th>\n",
       "      <td>8.000000</td>\n",
       "    </tr>\n",
       "    <tr>\n",
       "      <th rowspan=\"9\" valign=\"top\">United States</th>\n",
       "      <th>Business Strategy</th>\n",
       "      <td>2.333333</td>\n",
       "    </tr>\n",
       "    <tr>\n",
       "      <th>Finance</th>\n",
       "      <td>3.750000</td>\n",
       "    </tr>\n",
       "    <tr>\n",
       "      <th>Legal &amp; Government Relations</th>\n",
       "      <td>0.000000</td>\n",
       "    </tr>\n",
       "    <tr>\n",
       "      <th>Marketing &amp; Communications</th>\n",
       "      <td>2.500000</td>\n",
       "    </tr>\n",
       "    <tr>\n",
       "      <th>People Operations</th>\n",
       "      <td>1.000000</td>\n",
       "    </tr>\n",
       "    <tr>\n",
       "      <th>Product &amp; Customer Support</th>\n",
       "      <td>5.333333</td>\n",
       "    </tr>\n",
       "    <tr>\n",
       "      <th>Program Management</th>\n",
       "      <td>0.000000</td>\n",
       "    </tr>\n",
       "    <tr>\n",
       "      <th>Sales Operations</th>\n",
       "      <td>4.000000</td>\n",
       "    </tr>\n",
       "    <tr>\n",
       "      <th>Technical Solutions</th>\n",
       "      <td>2.000000</td>\n",
       "    </tr>\n",
       "  </tbody>\n",
       "</table>\n",
       "</div>"
      ],
      "text/plain": [
       "                                             Minimum_years_experience\n",
       "Country        Category                                              \n",
       "China          Partnerships                                  4.000000\n",
       "France         Sales Operations                              0.000000\n",
       "Germany        Sales Operations                              0.000000\n",
       "India          Product & Customer Support                    5.000000\n",
       "Ireland        Finance                                       2.000000\n",
       "               Legal & Government Relations                  0.000000\n",
       "               Product & Customer Support                    0.000000\n",
       "               Sales & Account Management                    4.000000\n",
       "Israel         Business Strategy                             4.000000\n",
       "Japan          Business Strategy                             3.000000\n",
       "Singapore      Finance                                       6.000000\n",
       "Switzerland    Product & Customer Support                    2.666667\n",
       "United Kingdom Finance                                       0.000000\n",
       "               Marketing & Communications                    6.000000\n",
       "               Sales Operations                              8.000000\n",
       "United States  Business Strategy                             2.333333\n",
       "               Finance                                       3.750000\n",
       "               Legal & Government Relations                  0.000000\n",
       "               Marketing & Communications                    2.500000\n",
       "               People Operations                             1.000000\n",
       "               Product & Customer Support                    5.333333\n",
       "               Program Management                            0.000000\n",
       "               Sales Operations                              4.000000\n",
       "               Technical Solutions                           2.000000"
      ]
     },
     "execution_count": 30,
     "metadata": {},
     "output_type": "execute_result"
    }
   ],
   "source": [
    "import numpy as np\n",
    "category_country = df_Analyst.pivot_table(index=['Country','Category'],values='Minimum_years_experience',aggfunc=np.mean)\n",
    "category_country"
   ]
  },
  {
   "cell_type": "markdown",
   "metadata": {},
   "source": [
    "What is the corresponding Category in China's job requirements? What is the minimum working life required?\n",
    "\n",
    "Answer: Partnerships，4 year"
   ]
  }
 ],
 "metadata": {
  "kernelspec": {
   "display_name": "Python 3",
   "language": "python",
   "name": "python3"
  },
  "language_info": {
   "codemirror_mode": {
    "name": "ipython",
    "version": 3
   },
   "file_extension": ".py",
   "mimetype": "text/x-python",
   "name": "python",
   "nbconvert_exporter": "python",
   "pygments_lexer": "ipython3",
   "version": "3.7.4"
  }
 },
 "nbformat": 4,
 "nbformat_minor": 1
}
