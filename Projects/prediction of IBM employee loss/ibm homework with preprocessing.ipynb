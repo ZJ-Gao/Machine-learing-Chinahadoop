{
 "cells": [
  {
   "cell_type": "markdown",
   "metadata": {},
   "source": [
    "# 训练营——机器学习L1系列\n",
    "## 机器学习\n",
    "## IBM员工流失预测\n",
    "\n",
    "> **提示**：这样的文字将会指导你如何使用 jupyter Notebook 来完成项目。你可以通过单击代码区域，然后使用键盘快捷键 Shift+Enter 或 Shift+Return 来运行代码。或者在选择代码后使用执行（run cell）按钮执行代码。\n",
    "\n",
    "> 在如下有**# TODO** 提示的地方，将代码补全，实现注释中所要求的功能。\n",
    "\n",
    "> 在有\"** 回答：**\" 提示的地方，回答其上所提出的问题。（**Markdown的文字区域也同样可以双击然后编辑和执行**）"
   ]
  },
  {
   "cell_type": "markdown",
   "metadata": {},
   "source": [
    "## 开始\n",
    "保持员工满意的问题是一个长期存在且历史悠久的挑战。如果您投入了大量时间和金钱的员工离开，那么这意味着您将不得不花费更多的时间和金钱来雇佣其他人。这个项目使用了IBM的员工流失数据作为处理目标，看看我们是否可以构建一些模型，来对员工的流失进行预测。\n",
    "\n",
    "## 这个工程的结构如下：\n",
    "我们尝试使用不断探索的方式来分析这份数据并建立机器学习模型。\n",
    "\n",
    "- 初探：我们使用最简单的方式处理数据，将那些不适合机器学习模型的非数值型字段直接丢弃，看看训练模型的效果会是如何的。\n",
    "- 进一步探索：我们希望在这部分更进一步，将之前丢弃的那些非数值型属性拿回来，重新进行独热编码、归一化等操作，期望获取更好的模型效果。\n",
    "- 学习曲线：学习曲线对于直观的观测模型的拟合情况非常有益，我们通过学习曲线获取模型超参数在不同取值时的不同效果。并估计一下模型在什么情况下效果最好。\n",
    "- 网格搜索：这部分是模型调优的常用动作，它其实会与以上步骤混合进行，使用交叉验证及网格搜索，以期获取最优的模型参数。\n",
    "- 重采样：我们不应通过某个指标来草率的评价某个模型是否已经达到我们的需求，依据具体的项目状况，通过某些更多的指标或图像我们可以感知到数据或模型依然存在问题，这时候我们需要针对具体的案例，可能要对模型进行调整，或者对数据进行再处理。这一部分我们共同来体验数据重采样的处理过程。"
   ]
  },
  {
   "cell_type": "markdown",
   "metadata": {},
   "source": [
    "----\n",
    "## 读入数据\n",
    "运行下面的代码将数据读入。"
   ]
  },
  {
   "cell_type": "code",
   "execution_count": 1,
   "metadata": {},
   "outputs": [
    {
     "name": "stdout",
     "output_type": "stream",
     "text": [
      "['Age', 'Attrition', 'BusinessTravel', 'DailyRate', 'Department', 'DistanceFromHome', 'Education', 'EducationField', 'EmployeeCount', 'EmployeeNumber', 'EnvironmentSatisfaction', 'Gender', 'HourlyRate', 'JobInvolvement', 'JobLevel', 'JobRole', 'JobSatisfaction', 'MaritalStatus', 'MonthlyIncome', 'MonthlyRate', 'NumCompaniesWorked', 'Over18', 'OverTime', 'PercentSalaryHike', 'PerformanceRating', 'RelationshipSatisfaction', 'StandardHours', 'StockOptionLevel', 'TotalWorkingYears', 'TrainingTimesLastYear', 'WorkLifeBalance', 'YearsAtCompany', 'YearsInCurrentRole', 'YearsSinceLastPromotion', 'YearsWithCurrManager']\n",
      "数据行数： 1470\n"
     ]
    },
    {
     "data": {
      "text/html": [
       "<div>\n",
       "<style scoped>\n",
       "    .dataframe tbody tr th:only-of-type {\n",
       "        vertical-align: middle;\n",
       "    }\n",
       "\n",
       "    .dataframe tbody tr th {\n",
       "        vertical-align: top;\n",
       "    }\n",
       "\n",
       "    .dataframe thead th {\n",
       "        text-align: right;\n",
       "    }\n",
       "</style>\n",
       "<table border=\"1\" class=\"dataframe\">\n",
       "  <thead>\n",
       "    <tr style=\"text-align: right;\">\n",
       "      <th></th>\n",
       "      <th>Age</th>\n",
       "      <th>Attrition</th>\n",
       "      <th>BusinessTravel</th>\n",
       "      <th>DailyRate</th>\n",
       "      <th>Department</th>\n",
       "      <th>DistanceFromHome</th>\n",
       "      <th>Education</th>\n",
       "      <th>EducationField</th>\n",
       "      <th>EmployeeCount</th>\n",
       "      <th>EmployeeNumber</th>\n",
       "      <th>...</th>\n",
       "      <th>RelationshipSatisfaction</th>\n",
       "      <th>StandardHours</th>\n",
       "      <th>StockOptionLevel</th>\n",
       "      <th>TotalWorkingYears</th>\n",
       "      <th>TrainingTimesLastYear</th>\n",
       "      <th>WorkLifeBalance</th>\n",
       "      <th>YearsAtCompany</th>\n",
       "      <th>YearsInCurrentRole</th>\n",
       "      <th>YearsSinceLastPromotion</th>\n",
       "      <th>YearsWithCurrManager</th>\n",
       "    </tr>\n",
       "  </thead>\n",
       "  <tbody>\n",
       "    <tr>\n",
       "      <td>0</td>\n",
       "      <td>41</td>\n",
       "      <td>Yes</td>\n",
       "      <td>Travel_Rarely</td>\n",
       "      <td>1102</td>\n",
       "      <td>Sales</td>\n",
       "      <td>1</td>\n",
       "      <td>2</td>\n",
       "      <td>Life Sciences</td>\n",
       "      <td>1</td>\n",
       "      <td>1</td>\n",
       "      <td>...</td>\n",
       "      <td>1</td>\n",
       "      <td>80</td>\n",
       "      <td>0</td>\n",
       "      <td>8</td>\n",
       "      <td>0</td>\n",
       "      <td>1</td>\n",
       "      <td>6</td>\n",
       "      <td>4</td>\n",
       "      <td>0</td>\n",
       "      <td>5</td>\n",
       "    </tr>\n",
       "    <tr>\n",
       "      <td>1</td>\n",
       "      <td>49</td>\n",
       "      <td>No</td>\n",
       "      <td>Travel_Frequently</td>\n",
       "      <td>279</td>\n",
       "      <td>Research &amp; Development</td>\n",
       "      <td>8</td>\n",
       "      <td>1</td>\n",
       "      <td>Life Sciences</td>\n",
       "      <td>1</td>\n",
       "      <td>2</td>\n",
       "      <td>...</td>\n",
       "      <td>4</td>\n",
       "      <td>80</td>\n",
       "      <td>1</td>\n",
       "      <td>10</td>\n",
       "      <td>3</td>\n",
       "      <td>3</td>\n",
       "      <td>10</td>\n",
       "      <td>7</td>\n",
       "      <td>1</td>\n",
       "      <td>7</td>\n",
       "    </tr>\n",
       "    <tr>\n",
       "      <td>2</td>\n",
       "      <td>37</td>\n",
       "      <td>Yes</td>\n",
       "      <td>Travel_Rarely</td>\n",
       "      <td>1373</td>\n",
       "      <td>Research &amp; Development</td>\n",
       "      <td>2</td>\n",
       "      <td>2</td>\n",
       "      <td>Other</td>\n",
       "      <td>1</td>\n",
       "      <td>4</td>\n",
       "      <td>...</td>\n",
       "      <td>2</td>\n",
       "      <td>80</td>\n",
       "      <td>0</td>\n",
       "      <td>7</td>\n",
       "      <td>3</td>\n",
       "      <td>3</td>\n",
       "      <td>0</td>\n",
       "      <td>0</td>\n",
       "      <td>0</td>\n",
       "      <td>0</td>\n",
       "    </tr>\n",
       "    <tr>\n",
       "      <td>3</td>\n",
       "      <td>33</td>\n",
       "      <td>No</td>\n",
       "      <td>Travel_Frequently</td>\n",
       "      <td>1392</td>\n",
       "      <td>Research &amp; Development</td>\n",
       "      <td>3</td>\n",
       "      <td>4</td>\n",
       "      <td>Life Sciences</td>\n",
       "      <td>1</td>\n",
       "      <td>5</td>\n",
       "      <td>...</td>\n",
       "      <td>3</td>\n",
       "      <td>80</td>\n",
       "      <td>0</td>\n",
       "      <td>8</td>\n",
       "      <td>3</td>\n",
       "      <td>3</td>\n",
       "      <td>8</td>\n",
       "      <td>7</td>\n",
       "      <td>3</td>\n",
       "      <td>0</td>\n",
       "    </tr>\n",
       "    <tr>\n",
       "      <td>4</td>\n",
       "      <td>27</td>\n",
       "      <td>No</td>\n",
       "      <td>Travel_Rarely</td>\n",
       "      <td>591</td>\n",
       "      <td>Research &amp; Development</td>\n",
       "      <td>2</td>\n",
       "      <td>1</td>\n",
       "      <td>Medical</td>\n",
       "      <td>1</td>\n",
       "      <td>7</td>\n",
       "      <td>...</td>\n",
       "      <td>4</td>\n",
       "      <td>80</td>\n",
       "      <td>1</td>\n",
       "      <td>6</td>\n",
       "      <td>3</td>\n",
       "      <td>3</td>\n",
       "      <td>2</td>\n",
       "      <td>2</td>\n",
       "      <td>2</td>\n",
       "      <td>2</td>\n",
       "    </tr>\n",
       "  </tbody>\n",
       "</table>\n",
       "<p>5 rows × 35 columns</p>\n",
       "</div>"
      ],
      "text/plain": [
       "   Age Attrition     BusinessTravel  DailyRate              Department  \\\n",
       "0   41       Yes      Travel_Rarely       1102                   Sales   \n",
       "1   49        No  Travel_Frequently        279  Research & Development   \n",
       "2   37       Yes      Travel_Rarely       1373  Research & Development   \n",
       "3   33        No  Travel_Frequently       1392  Research & Development   \n",
       "4   27        No      Travel_Rarely        591  Research & Development   \n",
       "\n",
       "   DistanceFromHome  Education EducationField  EmployeeCount  EmployeeNumber  \\\n",
       "0                 1          2  Life Sciences              1               1   \n",
       "1                 8          1  Life Sciences              1               2   \n",
       "2                 2          2          Other              1               4   \n",
       "3                 3          4  Life Sciences              1               5   \n",
       "4                 2          1        Medical              1               7   \n",
       "\n",
       "   ...  RelationshipSatisfaction StandardHours  StockOptionLevel  \\\n",
       "0  ...                         1            80                 0   \n",
       "1  ...                         4            80                 1   \n",
       "2  ...                         2            80                 0   \n",
       "3  ...                         3            80                 0   \n",
       "4  ...                         4            80                 1   \n",
       "\n",
       "   TotalWorkingYears  TrainingTimesLastYear WorkLifeBalance  YearsAtCompany  \\\n",
       "0                  8                      0               1               6   \n",
       "1                 10                      3               3              10   \n",
       "2                  7                      3               3               0   \n",
       "3                  8                      3               3               8   \n",
       "4                  6                      3               3               2   \n",
       "\n",
       "  YearsInCurrentRole  YearsSinceLastPromotion  YearsWithCurrManager  \n",
       "0                  4                        0                     5  \n",
       "1                  7                        1                     7  \n",
       "2                  0                        0                     0  \n",
       "3                  7                        3                     0  \n",
       "4                  2                        2                     2  \n",
       "\n",
       "[5 rows x 35 columns]"
      ]
     },
     "execution_count": 1,
     "metadata": {},
     "output_type": "execute_result"
    }
   ],
   "source": [
    "import numpy as np \n",
    "import pandas as pd \n",
    "import matplotlib.pyplot as plt\n",
    "import time\n",
    "import warnings\n",
    "warnings.filterwarnings('ignore')\n",
    "\n",
    "attrition = pd.read_csv('./data/WA_Fn-UseC_-HR-Employee-Attrition.csv')\n",
    "# 输出列名\n",
    "print(attrition.columns.values.tolist())\n",
    "\n",
    "print('数据行数：', len(attrition))\n",
    "attrition.head()"
   ]
  },
  {
   "cell_type": "markdown",
   "metadata": {},
   "source": [
    "### 观察\n",
    "从员工流失数据样本中，我们可以看到数据的一些特征：\n",
    "\n",
    "- Age：员工年龄\n",
    "- Attrition：员工是否已经离职，Yes表示已经离职，No表示未离职，这是目标预测值；\n",
    "- BusinessTravel：商务差旅频率，Non-Travel表示不出差，Travel_Rarely表示不经常出差，Travel_Frequently表示经常出差；\n",
    "- Department：员工所在部门，Sales表示销售部，Research & Development表示研发部，Human Resources表示人力资源部；\n",
    "- DistanceFromHome：公司跟家庭住址的距离，从1到29，1表示最近，29表示最远；\n",
    "- Education：员工的教育程度，从1到5，5表示教育程度最高；\n",
    "- EducationField：员工所学习的专业领域，Life Sciences表示生命科学，Medical表示医疗，Marketing表示市场营销，Technical Degree表示技术学位，Human Resources表示人力资源，Other表示其他；\n",
    "- EmployeeNumber：员工号码；\n",
    "- EnvironmentSatisfaction：员工对于工作环境的满意程度，从1到4，1的满意程度最低，4的满意程度最高；\n",
    "- Gender：员工性别，Male表示男性，Female表示女性；\n",
    "- JobInvolvement：员工工作投入度，从1到4，1为投入度最低，4为投入度最高；\n",
    "- JobLevel：职业级别，从1到5，1为最低级别，5为最高级别；\n",
    "- JobRole：工作角色：Sales Executive是销售主管，Research Scientist是科学研究员，Laboratory Technician实验室技术员，Manufacturing Director是制造总监，Healthcare Representative是医疗代表，Manager是经理，Sales Representative是销售代表，Research Director是研究总监，Human Resources是人力资源；\n",
    "- JobSatisfaction：工作满意度，从1到4，1代表满意程度最低，4代表满意程度最高；\n",
    "- MaritalStatus：员工婚姻状况，Single代表单身，Married代表已婚，Divorced代表离婚；\n",
    "- MonthlyIncome：员工月收入，范围在1009到19999之间；\n",
    "- NumCompaniesWorked：员工曾经工作过的公司数；\n",
    "- Over18：年龄是否超过18岁；\n",
    "- OverTime：是否加班，Yes表示加班，No表示不加班；\n",
    "- PercentSalaryHike：工资提高的百分比；\n",
    "- PerformanceRating：绩效评估；\n",
    "- RelationshipSatisfaction：关系满意度，从1到4，1表示满意度最低，4表示满意度最高；\n",
    "- StandardHours：标准工时；\n",
    "- StockOptionLevel：股票期权水平；\n",
    "- TotalWorkingYears：总工龄；\n",
    "- TrainingTimesLastYear：上一年的培训时长，从0到6，0表示没有培训，6表示培训时间最长；\n",
    "- WorkLifeBalance：工作与生活平衡程度，从1到4，1表示平衡程度最低，4表示平衡程度最高；\n",
    "- YearsAtCompany：在目前公司工作年数；\n",
    "- YearsInCurrentRole：在目前工作职责的工作年数\n",
    "- YearsSinceLastPromotion：距离上次升职时长\n",
    "- YearsWithCurrManager：跟目前的管理者共事年数；\n",
    "\n",
    "在我们即将构建的机器学习模型当中，'Attrition'将是模型训练的目标列。\n",
    "\n",
    "此外，我们看到我们混合了数字和分类数据类型。\n",
    "\n",
    "作为第一步，让我们快速进行一些简单的数据完整性检查，以查看数据中是否存在空值或无效值。"
   ]
  },
  {
   "cell_type": "code",
   "execution_count": 2,
   "metadata": {},
   "outputs": [
    {
     "data": {
      "text/plain": [
       "Age                         False\n",
       "Attrition                   False\n",
       "BusinessTravel              False\n",
       "DailyRate                   False\n",
       "Department                  False\n",
       "DistanceFromHome            False\n",
       "Education                   False\n",
       "EducationField              False\n",
       "EmployeeCount               False\n",
       "EmployeeNumber              False\n",
       "EnvironmentSatisfaction     False\n",
       "Gender                      False\n",
       "HourlyRate                  False\n",
       "JobInvolvement              False\n",
       "JobLevel                    False\n",
       "JobRole                     False\n",
       "JobSatisfaction             False\n",
       "MaritalStatus               False\n",
       "MonthlyIncome               False\n",
       "MonthlyRate                 False\n",
       "NumCompaniesWorked          False\n",
       "Over18                      False\n",
       "OverTime                    False\n",
       "PercentSalaryHike           False\n",
       "PerformanceRating           False\n",
       "RelationshipSatisfaction    False\n",
       "StandardHours               False\n",
       "StockOptionLevel            False\n",
       "TotalWorkingYears           False\n",
       "TrainingTimesLastYear       False\n",
       "WorkLifeBalance             False\n",
       "YearsAtCompany              False\n",
       "YearsInCurrentRole          False\n",
       "YearsSinceLastPromotion     False\n",
       "YearsWithCurrManager        False\n",
       "dtype: bool"
      ]
     },
     "execution_count": 2,
     "metadata": {},
     "output_type": "execute_result"
    }
   ],
   "source": [
    "attrition.isnull().any()"
   ]
  },
  {
   "cell_type": "markdown",
   "metadata": {},
   "source": [
    "\n",
    "\n",
    "---\n",
    "\n",
    "## 数据探索\n",
    "\n",
    "\n",
    "首先我们要将员工的流失情况记录下来，并将其从原表中删除"
   ]
  },
  {
   "cell_type": "code",
   "execution_count": 3,
   "metadata": {},
   "outputs": [
    {
     "data": {
      "text/html": [
       "<div>\n",
       "<style scoped>\n",
       "    .dataframe tbody tr th:only-of-type {\n",
       "        vertical-align: middle;\n",
       "    }\n",
       "\n",
       "    .dataframe tbody tr th {\n",
       "        vertical-align: top;\n",
       "    }\n",
       "\n",
       "    .dataframe thead th {\n",
       "        text-align: right;\n",
       "    }\n",
       "</style>\n",
       "<table border=\"1\" class=\"dataframe\">\n",
       "  <thead>\n",
       "    <tr style=\"text-align: right;\">\n",
       "      <th></th>\n",
       "      <th>Age</th>\n",
       "      <th>BusinessTravel</th>\n",
       "      <th>DailyRate</th>\n",
       "      <th>Department</th>\n",
       "      <th>DistanceFromHome</th>\n",
       "      <th>Education</th>\n",
       "      <th>EducationField</th>\n",
       "      <th>EmployeeCount</th>\n",
       "      <th>EmployeeNumber</th>\n",
       "      <th>EnvironmentSatisfaction</th>\n",
       "      <th>...</th>\n",
       "      <th>RelationshipSatisfaction</th>\n",
       "      <th>StandardHours</th>\n",
       "      <th>StockOptionLevel</th>\n",
       "      <th>TotalWorkingYears</th>\n",
       "      <th>TrainingTimesLastYear</th>\n",
       "      <th>WorkLifeBalance</th>\n",
       "      <th>YearsAtCompany</th>\n",
       "      <th>YearsInCurrentRole</th>\n",
       "      <th>YearsSinceLastPromotion</th>\n",
       "      <th>YearsWithCurrManager</th>\n",
       "    </tr>\n",
       "  </thead>\n",
       "  <tbody>\n",
       "    <tr>\n",
       "      <td>0</td>\n",
       "      <td>41</td>\n",
       "      <td>Travel_Rarely</td>\n",
       "      <td>1102</td>\n",
       "      <td>Sales</td>\n",
       "      <td>1</td>\n",
       "      <td>2</td>\n",
       "      <td>Life Sciences</td>\n",
       "      <td>1</td>\n",
       "      <td>1</td>\n",
       "      <td>2</td>\n",
       "      <td>...</td>\n",
       "      <td>1</td>\n",
       "      <td>80</td>\n",
       "      <td>0</td>\n",
       "      <td>8</td>\n",
       "      <td>0</td>\n",
       "      <td>1</td>\n",
       "      <td>6</td>\n",
       "      <td>4</td>\n",
       "      <td>0</td>\n",
       "      <td>5</td>\n",
       "    </tr>\n",
       "    <tr>\n",
       "      <td>1</td>\n",
       "      <td>49</td>\n",
       "      <td>Travel_Frequently</td>\n",
       "      <td>279</td>\n",
       "      <td>Research &amp; Development</td>\n",
       "      <td>8</td>\n",
       "      <td>1</td>\n",
       "      <td>Life Sciences</td>\n",
       "      <td>1</td>\n",
       "      <td>2</td>\n",
       "      <td>3</td>\n",
       "      <td>...</td>\n",
       "      <td>4</td>\n",
       "      <td>80</td>\n",
       "      <td>1</td>\n",
       "      <td>10</td>\n",
       "      <td>3</td>\n",
       "      <td>3</td>\n",
       "      <td>10</td>\n",
       "      <td>7</td>\n",
       "      <td>1</td>\n",
       "      <td>7</td>\n",
       "    </tr>\n",
       "    <tr>\n",
       "      <td>2</td>\n",
       "      <td>37</td>\n",
       "      <td>Travel_Rarely</td>\n",
       "      <td>1373</td>\n",
       "      <td>Research &amp; Development</td>\n",
       "      <td>2</td>\n",
       "      <td>2</td>\n",
       "      <td>Other</td>\n",
       "      <td>1</td>\n",
       "      <td>4</td>\n",
       "      <td>4</td>\n",
       "      <td>...</td>\n",
       "      <td>2</td>\n",
       "      <td>80</td>\n",
       "      <td>0</td>\n",
       "      <td>7</td>\n",
       "      <td>3</td>\n",
       "      <td>3</td>\n",
       "      <td>0</td>\n",
       "      <td>0</td>\n",
       "      <td>0</td>\n",
       "      <td>0</td>\n",
       "    </tr>\n",
       "    <tr>\n",
       "      <td>3</td>\n",
       "      <td>33</td>\n",
       "      <td>Travel_Frequently</td>\n",
       "      <td>1392</td>\n",
       "      <td>Research &amp; Development</td>\n",
       "      <td>3</td>\n",
       "      <td>4</td>\n",
       "      <td>Life Sciences</td>\n",
       "      <td>1</td>\n",
       "      <td>5</td>\n",
       "      <td>4</td>\n",
       "      <td>...</td>\n",
       "      <td>3</td>\n",
       "      <td>80</td>\n",
       "      <td>0</td>\n",
       "      <td>8</td>\n",
       "      <td>3</td>\n",
       "      <td>3</td>\n",
       "      <td>8</td>\n",
       "      <td>7</td>\n",
       "      <td>3</td>\n",
       "      <td>0</td>\n",
       "    </tr>\n",
       "    <tr>\n",
       "      <td>4</td>\n",
       "      <td>27</td>\n",
       "      <td>Travel_Rarely</td>\n",
       "      <td>591</td>\n",
       "      <td>Research &amp; Development</td>\n",
       "      <td>2</td>\n",
       "      <td>1</td>\n",
       "      <td>Medical</td>\n",
       "      <td>1</td>\n",
       "      <td>7</td>\n",
       "      <td>1</td>\n",
       "      <td>...</td>\n",
       "      <td>4</td>\n",
       "      <td>80</td>\n",
       "      <td>1</td>\n",
       "      <td>6</td>\n",
       "      <td>3</td>\n",
       "      <td>3</td>\n",
       "      <td>2</td>\n",
       "      <td>2</td>\n",
       "      <td>2</td>\n",
       "      <td>2</td>\n",
       "    </tr>\n",
       "  </tbody>\n",
       "</table>\n",
       "<p>5 rows × 34 columns</p>\n",
       "</div>"
      ],
      "text/plain": [
       "   Age     BusinessTravel  DailyRate              Department  \\\n",
       "0   41      Travel_Rarely       1102                   Sales   \n",
       "1   49  Travel_Frequently        279  Research & Development   \n",
       "2   37      Travel_Rarely       1373  Research & Development   \n",
       "3   33  Travel_Frequently       1392  Research & Development   \n",
       "4   27      Travel_Rarely        591  Research & Development   \n",
       "\n",
       "   DistanceFromHome  Education EducationField  EmployeeCount  EmployeeNumber  \\\n",
       "0                 1          2  Life Sciences              1               1   \n",
       "1                 8          1  Life Sciences              1               2   \n",
       "2                 2          2          Other              1               4   \n",
       "3                 3          4  Life Sciences              1               5   \n",
       "4                 2          1        Medical              1               7   \n",
       "\n",
       "   EnvironmentSatisfaction  ... RelationshipSatisfaction  StandardHours  \\\n",
       "0                        2  ...                        1             80   \n",
       "1                        3  ...                        4             80   \n",
       "2                        4  ...                        2             80   \n",
       "3                        4  ...                        3             80   \n",
       "4                        1  ...                        4             80   \n",
       "\n",
       "   StockOptionLevel  TotalWorkingYears TrainingTimesLastYear  WorkLifeBalance  \\\n",
       "0                 0                  8                     0                1   \n",
       "1                 1                 10                     3                3   \n",
       "2                 0                  7                     3                3   \n",
       "3                 0                  8                     3                3   \n",
       "4                 1                  6                     3                3   \n",
       "\n",
       "  YearsAtCompany  YearsInCurrentRole  YearsSinceLastPromotion  \\\n",
       "0              6                   4                        0   \n",
       "1             10                   7                        1   \n",
       "2              0                   0                        0   \n",
       "3              8                   7                        3   \n",
       "4              2                   2                        2   \n",
       "\n",
       "   YearsWithCurrManager  \n",
       "0                     5  \n",
       "1                     7  \n",
       "2                     0  \n",
       "3                     0  \n",
       "4                     2  \n",
       "\n",
       "[5 rows x 34 columns]"
      ]
     },
     "execution_count": 3,
     "metadata": {},
     "output_type": "execute_result"
    }
   ],
   "source": [
    "target_map = {'Yes':1, 'No':0}\n",
    "\n",
    "# 抽取attrition中的'Attrition'这一列，存储到y这个Series类型的变量中，并且完成元素值的转换，将Yes转为1，No转为0。\n",
    "y = attrition['Attrition'].copy()\n",
    "y.loc[attrition['Attrition']=='Yes']=1\n",
    "y.loc[attrition['Attrition']=='No']=0\n",
    "\n",
    "# 从attrition中将Attrition列移除\n",
    "attrition = attrition.drop(['Attrition'], axis=1)\n",
    "attrition.head()"
   ]
  },
  {
   "cell_type": "markdown",
   "metadata": {},
   "source": [
    "可以看到，在列表中有很多列的数据都是由字符串组成的。 \n",
    "\n",
    "首先，我们将通过使用dtype方法将数值列与类别列分开，如下所示："
   ]
  },
  {
   "cell_type": "code",
   "execution_count": 4,
   "metadata": {},
   "outputs": [
    {
     "name": "stdout",
     "output_type": "stream",
     "text": [
      "BusinessTravel是一个类别列\n",
      "Department是一个类别列\n",
      "EducationField是一个类别列\n",
      "Gender是一个类别列\n",
      "JobRole是一个类别列\n",
      "MaritalStatus是一个类别列\n",
      "Over18是一个类别列\n",
      "OverTime是一个类别列\n"
     ]
    }
   ],
   "source": [
    "# categoricals列表将用于记录所有的非数值属性名\n",
    "\n",
    "categoricals = []\n",
    "for col, value in attrition.iteritems():\n",
    "    if value.dtype == 'object':\n",
    "        print (col+\"是一个类别列\")\n",
    "        categoricals.append(col)\n",
    "\n",
    "numerical = attrition.columns.difference(categoricals)\n",
    "\n",
    "# 将数值型属性列保存到变量attrition_num中\n",
    "attrition_num = attrition[numerical]\n",
    "# 将类别属性列存储到变量attrition_cat中\n",
    "attrition_cat = attrition[categoricals]"
   ]
  },
  {
   "cell_type": "markdown",
   "metadata": {},
   "source": [
    "## 初步探索\n",
    "- 我们用决策树（DecisionTreeClassifier）模型来对数据进行拟合。\n",
    "- 我们先舍弃掉数据集中的所有的非数值列，利用所有的数值列构建一个模型，观察效果如何。\n",
    "- 这里我们将使用交叉验证（CV）以及网格搜索来获取模型的最优参数。"
   ]
  },
  {
   "cell_type": "code",
   "execution_count": 5,
   "metadata": {
    "scrolled": true
   },
   "outputs": [
    {
     "name": "stdout",
     "output_type": "stream",
     "text": [
      "参数=1，验证集上的AUC=0.574\n",
      "参数=2，验证集上的AUC=0.641\n",
      "参数=3，验证集上的AUC=0.664\n",
      "参数=4，验证集上的AUC=0.648\n",
      "参数=5，验证集上的AUC=0.648\n",
      "参数=6，验证集上的AUC=0.627\n",
      "参数=7，验证集上的AUC=0.595\n",
      "参数=8，验证集上的AUC=0.574\n",
      "最优的参数值：3\n",
      "模型AUC值：0.530\n",
      "\n",
      "耗时0.5418s\n"
     ]
    },
    {
     "data": {
      "text/plain": [
       "DecisionTreeClassifier(class_weight=None, criterion='gini', max_depth=3,\n",
       "                       max_features=None, max_leaf_nodes=None,\n",
       "                       min_impurity_decrease=0.0, min_impurity_split=None,\n",
       "                       min_samples_leaf=1, min_samples_split=2,\n",
       "                       min_weight_fraction_leaf=0.0, presort=False,\n",
       "                       random_state=None, splitter='best')"
      ]
     },
     "execution_count": 5,
     "metadata": {},
     "output_type": "execute_result"
    }
   ],
   "source": [
    "from sklearn.model_selection import cross_val_score\n",
    "from sklearn.model_selection import train_test_split\n",
    "from sklearn.metrics import roc_auc_score\n",
    "from sklearn.tree import DecisionTreeClassifier\n",
    "\n",
    "# 决策树模型的参数列表（树最大高度）\n",
    "parameters = range(1, 9)\n",
    "\n",
    "def train_test_model(X, y):\n",
    "    '''依据输入数据，使用模型进行交叉验证训练。在训练过程中，打印针对不同的超参数值，模型在验证集上的auc分数。\n",
    "       同时，对训练所耗费的时间做记录。\n",
    "    \n",
    "       输入：\n",
    "       X：数据集\n",
    "       y：预测属性\n",
    "       \n",
    "       返回值：\n",
    "       选出最优参数之后的模型\n",
    "\n",
    "    '''\n",
    "    start = time.time()\n",
    "    # 切分训练集和测试集\n",
    "    X_train, X_test, y_train, y_test = train_test_split(X, y, test_size=0.2, random_state=1)\n",
    "   \n",
    "    cv_scores = []\n",
    "\n",
    "    # 循环取parameters中的备选参数值，逐个尝试在不同参数状况下模型的表现（网格搜索 ）\n",
    "    for param in parameters:\n",
    "        # TODO\n",
    "        # 新建DecisionTreeClassifier类型的对象clf,并指定其中参数max_depth为当前循环所取值param\n",
    "        clf = DecisionTreeClassifier(max_depth=param)\n",
    "        # clf.fit(X_train, y_train)\n",
    "        \n",
    "        # TODO\n",
    "        # 使用10折交叉验证（通过sklearn.model_selection.cross_val_score可直接实现并计算分数），采用roc_auc作为评价指标。\n",
    "        # 对clf进行分数计算，将10个分数值放入到列表scores中。\n",
    "        scores = []\n",
    "        scores.append(cross_val_score(clf, X, y, cv=10, scoring='roc_auc'))\n",
    "        \n",
    "        # 计算10次验证集上所获分数的均值，作为该模型分数存入变量cv_score\n",
    "        cv_score = np.mean(scores)\n",
    "        print('参数={}，验证集上的AUC={:.3f}'.format(param, cv_score))\n",
    "        # 将分数存入cv_scores\n",
    "        cv_scores.append(cv_score)\n",
    "\n",
    "    # 选出网格搜索及交叉验证时分数最高的参数值，存入best_para变量\n",
    "   \n",
    "    best_para = np.argmax(cv_scores)+1\n",
    "\n",
    "    # 输出结果打印\n",
    "    print('最优的参数值：{}'.format(best_para))\n",
    "    \n",
    "    # 根据最好的参数值定义目标分类器\n",
    "    clf = DecisionTreeClassifier(max_depth=best_para)\n",
    "    # 对整个训练集再做一次完整的fit计算出模型的参数\n",
    "    clf.fit(X_train, y_train)\n",
    "    \n",
    "    # 通过predict对测试集进行测试，并将结果存入变量y_pred\n",
    "    y_pred = clf.predict(X_test)\n",
    "\n",
    "    #打印模型的auc值\n",
    "    print('模型AUC值：{:.3f}'.format(roc_auc_score(y_test, y_pred)))\n",
    "    end = time.time()\n",
    "    duration = end - start\n",
    "    print('\\n耗时{:.4f}s'.format(duration))\n",
    "    \n",
    "    return clf\n",
    "\n",
    "train_test_model(attrition_num,y)"
   ]
  },
  {
   "cell_type": "markdown",
   "metadata": {},
   "source": [
    "虽然模型在测试集上的auc值并不理想，但这个简单的尝试之后，我们还是可以发现，模型中参数的不同设置，会影响模型的效果。\n",
    "\n",
    "以上过程中，我们使用了交叉验证和网格搜索来完成了挑选最优参数的工作。请分别解释一下什么是交叉验证，什么是网格搜索？\n",
    "\n",
    "**回答：**\n",
    "交叉验证：将原始数据进行分组，一部分为训练集，一部分为验证集，首先用训练集对分类器进行进行训练，再利用验证集来测试训练得到的模型，以此来作为评价分类器的性能指标。\n",
    "网格搜索：在所有候选的参数选择中，通过循环遍历，尝试每一种可能性，表现最好的参数就是最终的结果。\n"
   ]
  },
  {
   "cell_type": "markdown",
   "metadata": {},
   "source": [
    "在使用网格搜索时，为何结合交叉验证一起使用效果能更好？\n",
    "\n",
    "**回答：** 通过网格搜索能够遍历所参数，通过交叉验证能够降低一次随机划分训练集和测试集的可能性，从而提高模型的泛化能力"
   ]
  },
  {
   "cell_type": "markdown",
   "metadata": {},
   "source": [
    "---\n",
    "## 进一步探索\n",
    "不能因为机器学习模型无法处理类别特征而将它们丢弃，它们依然是有价值的属性信息。\n",
    "\n",
    "对类别属性进行编码，是时常使用的方式。\n",
    "### 标签编码\n",
    "我们将类别属性转化为数值的形式。这里我们使用LabelEncoder："
   ]
  },
  {
   "cell_type": "code",
   "execution_count": 6,
   "metadata": {},
   "outputs": [
    {
     "name": "stdout",
     "output_type": "stream",
     "text": [
      "0    2\n",
      "1    1\n",
      "2    2\n",
      "3    1\n",
      "4    2\n",
      "Name: BusinessTravel, dtype: int32\n",
      "\n",
      "0    2\n",
      "1    1\n",
      "2    1\n",
      "3    1\n",
      "4    1\n",
      "Name: Department, dtype: int32\n",
      "\n",
      "0    1\n",
      "1    1\n",
      "2    4\n",
      "3    1\n",
      "4    3\n",
      "Name: EducationField, dtype: int32\n",
      "\n",
      "0    0\n",
      "1    1\n",
      "2    1\n",
      "3    0\n",
      "4    1\n",
      "Name: Gender, dtype: int32\n",
      "\n",
      "0    7\n",
      "1    6\n",
      "2    2\n",
      "3    6\n",
      "4    2\n",
      "Name: JobRole, dtype: int32\n",
      "\n",
      "0    2\n",
      "1    1\n",
      "2    2\n",
      "3    1\n",
      "4    1\n",
      "Name: MaritalStatus, dtype: int32\n",
      "\n",
      "0    0\n",
      "1    0\n",
      "2    0\n",
      "3    0\n",
      "4    0\n",
      "Name: Over18, dtype: int32\n",
      "\n",
      "0    1\n",
      "1    0\n",
      "2    1\n",
      "3    1\n",
      "4    0\n",
      "Name: OverTime, dtype: int32\n",
      "\n"
     ]
    }
   ],
   "source": [
    "from sklearn.preprocessing import LabelEncoder \n",
    "\n",
    "encoder = LabelEncoder()\n",
    "\n",
    "\n",
    "# 将attrition_cat拷贝到新对象new_attrition_cat中\n",
    "new_attrition_cat = attrition_cat.copy()\n",
    "\n",
    "\n",
    "for categorical in categoricals:\n",
    "    \n",
    "    new_attrition_cat[categorical]=encoder.fit_transform(new_attrition_cat[categorical])\n",
    "    \n",
    "    \n",
    "    # 打印一下做了labelEncode之后的属性值\n",
    "    print(\"{}\\n\".format(new_attrition_cat[categorical].head()))"
   ]
  },
  {
   "cell_type": "markdown",
   "metadata": {},
   "source": [
    "### 独热编码\n",
    "\n",
    "类别属性标签化之后，我们可以看到，以上的BusinessTravel、Department、EducationField、Gender、JobRole、MaritalStatus这些属性都被转换成了0、1、2...这样的数字类型。数值之间有大小关系，但其实在我们这个案例里，某个属性取某个具体的类别值，不存在大小高低之分，它们都应是平等的。于是我们需要对这些属性进行独热编码处理。"
   ]
  },
  {
   "cell_type": "code",
   "execution_count": 7,
   "metadata": {},
   "outputs": [
    {
     "name": "stdout",
     "output_type": "stream",
     "text": [
      "(1470, 55)\n",
      "   Age  DailyRate  DistanceFromHome  Education  EmployeeCount  EmployeeNumber  \\\n",
      "0   41       1102                 1          2              1               1   \n",
      "1   49        279                 8          1              1               2   \n",
      "2   37       1373                 2          2              1               4   \n",
      "\n",
      "   EnvironmentSatisfaction  HourlyRate  JobInvolvement  JobLevel  ...   19  \\\n",
      "0                        2          94               3         2  ...  0.0   \n",
      "1                        3          61               2         2  ...  0.0   \n",
      "2                        4          92               2         1  ...  0.0   \n",
      "\n",
      "    20   21   22   23   24   25   26   27   28  \n",
      "0  0.0  1.0  0.0  0.0  0.0  1.0  1.0  0.0  1.0  \n",
      "1  1.0  0.0  0.0  0.0  1.0  0.0  1.0  1.0  0.0  \n",
      "2  0.0  0.0  0.0  0.0  0.0  1.0  1.0  0.0  1.0  \n",
      "\n",
      "[3 rows x 55 columns]\n"
     ]
    }
   ],
   "source": [
    "from sklearn.preprocessing import OneHotEncoder\n",
    "import pandas as pd\n",
    "\n",
    "encoder = OneHotEncoder(sparse=False)\n",
    "\n",
    "# 使用encoder对new_attrition_cat中的类别列数据new_attrition_cat进行独热编码，并将结果保存在attrition_cat_one_hot中\n",
    "attrition_cat_one_hot = encoder.fit_transform(new_attrition_cat)\n",
    "attrition_cat_one_hot = pd.DataFrame(attrition_cat_one_hot)\n",
    "\n",
    "# 将attrition_cat_one_hot与attrition_num进行水平拼接，生成新的训练数据并存储到变量attrition_comb中\n",
    "\n",
    "attrition_comb = attrition_num.join(attrition_cat_one_hot, on=None, how='left', lsuffix='', rsuffix='',sort=False)\n",
    "\n",
    "# 打印attrition_comb的结构\n",
    "print(attrition_comb.shape)\n",
    "\n",
    "# 打印attrition_comb前3行\n",
    "print(attrition_comb[:3])"
   ]
  },
  {
   "cell_type": "markdown",
   "metadata": {},
   "source": [
    "以上的标签编码以及独热编码两个步骤，在Pandas当中，我们可以直接使用get_dummies一步完成："
   ]
  },
  {
   "cell_type": "code",
   "execution_count": 8,
   "metadata": {},
   "outputs": [
    {
     "name": "stdout",
     "output_type": "stream",
     "text": [
      "(1470, 55)\n",
      "   Age  DailyRate  DistanceFromHome  Education  EmployeeCount  EmployeeNumber  \\\n",
      "0   41       1102                 1          2              1               1   \n",
      "1   49        279                 8          1              1               2   \n",
      "2   37       1373                 2          2              1               4   \n",
      "3   33       1392                 3          4              1               5   \n",
      "4   27        591                 2          1              1               7   \n",
      "\n",
      "   EnvironmentSatisfaction  HourlyRate  JobInvolvement  JobLevel  ...  \\\n",
      "0                        2          94               3         2  ...   \n",
      "1                        3          61               2         2  ...   \n",
      "2                        4          92               2         1  ...   \n",
      "3                        4          56               3         1  ...   \n",
      "4                        1          40               3         1  ...   \n",
      "\n",
      "   JobRole_Research Director  JobRole_Research Scientist  \\\n",
      "0                          0                           0   \n",
      "1                          0                           1   \n",
      "2                          0                           0   \n",
      "3                          0                           1   \n",
      "4                          0                           0   \n",
      "\n",
      "   JobRole_Sales Executive  JobRole_Sales Representative  \\\n",
      "0                        1                             0   \n",
      "1                        0                             0   \n",
      "2                        0                             0   \n",
      "3                        0                             0   \n",
      "4                        0                             0   \n",
      "\n",
      "   MaritalStatus_Divorced  MaritalStatus_Married  MaritalStatus_Single  \\\n",
      "0                       0                      0                     1   \n",
      "1                       0                      1                     0   \n",
      "2                       0                      0                     1   \n",
      "3                       0                      1                     0   \n",
      "4                       0                      1                     0   \n",
      "\n",
      "   Over18_Y  OverTime_No  OverTime_Yes  \n",
      "0         1            0             1  \n",
      "1         1            1             0  \n",
      "2         1            0             1  \n",
      "3         1            0             1  \n",
      "4         1            1             0  \n",
      "\n",
      "[5 rows x 55 columns]\n"
     ]
    }
   ],
   "source": [
    "attrition_cat_one_hot = pd.get_dummies(attrition_cat)\n",
    "\n",
    "# TODO\n",
    "# 将attrition_cat_one_hot与attrition_num进行水平拼接，生成新的训练数据并存储到变量attrition_comb中\n",
    "attrition_comb = attrition_num.join(attrition_cat_one_hot, on=None, how='left', lsuffix='', rsuffix='',sort=False)\n",
    "\n",
    "# 打印attrition_comb的结构\n",
    "print(attrition_comb.shape)\n",
    "\n",
    "# 打印attrition_comb头部\n",
    "print(attrition_comb.head())"
   ]
  },
  {
   "cell_type": "markdown",
   "metadata": {},
   "source": [
    "### 再次训练\n",
    "使用我们进行独热编码之后的数据再次进行训练。"
   ]
  },
  {
   "cell_type": "code",
   "execution_count": 9,
   "metadata": {},
   "outputs": [
    {
     "name": "stdout",
     "output_type": "stream",
     "text": [
      "参数=1，验证集上的AUC=0.629\n",
      "参数=2，验证集上的AUC=0.712\n",
      "参数=3，验证集上的AUC=0.720\n",
      "参数=4，验证集上的AUC=0.681\n",
      "参数=5，验证集上的AUC=0.665\n",
      "参数=6，验证集上的AUC=0.633\n",
      "参数=7，验证集上的AUC=0.609\n",
      "参数=8，验证集上的AUC=0.579\n",
      "最优的参数值：3\n",
      "模型AUC值：0.556\n",
      "\n",
      "耗时0.6750s\n"
     ]
    },
    {
     "data": {
      "text/plain": [
       "DecisionTreeClassifier(class_weight=None, criterion='gini', max_depth=3,\n",
       "                       max_features=None, max_leaf_nodes=None,\n",
       "                       min_impurity_decrease=0.0, min_impurity_split=None,\n",
       "                       min_samples_leaf=1, min_samples_split=2,\n",
       "                       min_weight_fraction_leaf=0.0, presort=False,\n",
       "                       random_state=None, splitter='best')"
      ]
     },
     "execution_count": 9,
     "metadata": {},
     "output_type": "execute_result"
    }
   ],
   "source": [
    "# 使用进行独热编码之后的数据进行训练\n",
    "train_test_model(attrition_comb,y)"
   ]
  },
  {
   "cell_type": "markdown",
   "metadata": {},
   "source": [
    "### 问题\n",
    "\n",
    "观察一下该模型构建过程中最终获得的AUC值以及耗时等信息，与之前对比一下，独热编码在模型AUC值上以及计算耗时上都有什么样的不同？为什么会带来这样的变化呢？\n",
    "\n",
    "**回答：** 耗时增加,AUC变大"
   ]
  },
  {
   "cell_type": "markdown",
   "metadata": {},
   "source": [
    "### 归一化数字特征\n",
    "对数值特征施加一些形式的缩放通常会是一个好的习惯。在数据上面施加一个缩放并不会改变数据分布的形式，但是，归一化保证了每一个特征在使用监督学习器的时候能够被平等的对待。\n",
    "\n",
    "完成下面的代码单元来归一化每一个数字特征。我们将使用[`sklearn.preprocessing.MinMaxScaler`](http://scikit-learn.org/stable/modules/generated/sklearn.preprocessing.MinMaxScaler.html)来完成这个任务。"
   ]
  },
  {
   "cell_type": "code",
   "execution_count": 10,
   "metadata": {},
   "outputs": [
    {
     "name": "stdout",
     "output_type": "stream",
     "text": [
      "参数=1，验证集上的AUC=0.629\n",
      "参数=2，验证集上的AUC=0.712\n",
      "参数=3，验证集上的AUC=0.720\n",
      "参数=4，验证集上的AUC=0.679\n",
      "参数=5，验证集上的AUC=0.668\n",
      "参数=6，验证集上的AUC=0.639\n",
      "参数=7，验证集上的AUC=0.628\n",
      "参数=8，验证集上的AUC=0.615\n",
      "最优的参数值：3\n",
      "模型AUC值：0.556\n",
      "\n",
      "耗时0.6603s\n"
     ]
    },
    {
     "data": {
      "text/plain": [
       "DecisionTreeClassifier(class_weight=None, criterion='gini', max_depth=3,\n",
       "                       max_features=None, max_leaf_nodes=None,\n",
       "                       min_impurity_decrease=0.0, min_impurity_split=None,\n",
       "                       min_samples_leaf=1, min_samples_split=2,\n",
       "                       min_weight_fraction_leaf=0.0, presort=False,\n",
       "                       random_state=None, splitter='best')"
      ]
     },
     "execution_count": 10,
     "metadata": {},
     "output_type": "execute_result"
    }
   ],
   "source": [
    "from sklearn.preprocessing import MinMaxScaler \n",
    "\n",
    "scaler = MinMaxScaler()\n",
    "\n",
    "\n",
    "# 使用MinMaxScaler将数值特征attrition_num进行归一化，并存在attrition_num_min_max_norm中\n",
    "# 并且把归一化之后的Numpy转为pandas\n",
    "attrition_num_min_max_norm = pd.DataFrame(scaler.fit_transform(attrition_num)) \n",
    "\n",
    "# 将attrition_cat_one_hot与attrition_num_min_max_norm拼接成新的训练数据存储到attrition_comb中\n",
    "attrition_comb = pd.concat([attrition_cat_one_hot, attrition_num_min_max_norm], axis =1)\n",
    "\n",
    "# 重新训练\n",
    "train_test_model(attrition_comb,y)\n"
   ]
  },
  {
   "cell_type": "markdown",
   "metadata": {},
   "source": [
    "----\n",
    "\n",
    "## 代码优化\n",
    "我们以上实现的train_test_model函数，使用for循环实现了网格搜索。而在sklearn中，往往会通过GridSearchCV来使用网格搜索和交叉验证。我们通过以下代码，来优化之前的train_test_model函数实现。"
   ]
  },
  {
   "cell_type": "markdown",
   "metadata": {},
   "source": [
    "还可以使用z-score作为归一化的方法，在sklearn中，提供了[`sklearn.preprocessing.StandardScaler`](http://scikit-learn.org/stable/modules/generated/sklearn.preprocessing.StandardScaler.html)来直接实现这一指标变换。我们也使用这一归一化方式来尝试下效果。"
   ]
  },
  {
   "cell_type": "code",
   "execution_count": 11,
   "metadata": {},
   "outputs": [
    {
     "name": "stdout",
     "output_type": "stream",
     "text": [
      "参数=1，验证集上的AUC=0.629\n",
      "参数=2，验证集上的AUC=0.712\n",
      "参数=3，验证集上的AUC=0.720\n",
      "参数=4，验证集上的AUC=0.679\n",
      "参数=5，验证集上的AUC=0.663\n",
      "参数=6，验证集上的AUC=0.639\n",
      "参数=7，验证集上的AUC=0.628\n",
      "参数=8，验证集上的AUC=0.585\n",
      "最优的参数值：3\n",
      "模型AUC值：0.556\n",
      "\n",
      "耗时0.5689s\n"
     ]
    },
    {
     "data": {
      "text/plain": [
       "DecisionTreeClassifier(class_weight=None, criterion='gini', max_depth=3,\n",
       "                       max_features=None, max_leaf_nodes=None,\n",
       "                       min_impurity_decrease=0.0, min_impurity_split=None,\n",
       "                       min_samples_leaf=1, min_samples_split=2,\n",
       "                       min_weight_fraction_leaf=0.0, presort=False,\n",
       "                       random_state=None, splitter='best')"
      ]
     },
     "execution_count": 11,
     "metadata": {},
     "output_type": "execute_result"
    }
   ],
   "source": [
    "from sklearn.preprocessing import StandardScaler \n",
    "\n",
    "scaler = StandardScaler()\n",
    "\n",
    "# 使用z-score将数值特征attrition_num进行归一化，并存在attrition_num_std_norm中\n",
    "attrition_num_std_norm = scaler.fit_transform(attrition_num) \n",
    "\n",
    "# 将attrition_cat_one_hot与attrition_num_std_norm拼接成新的训练数据，存储到attrition_comb中\n",
    "attrition_comb = np.hstack((attrition_cat_one_hot, attrition_num_std_norm))\n",
    "\n",
    "# 模型训练\n",
    "train_test_model(attrition_comb,y)"
   ]
  },
  {
   "cell_type": "markdown",
   "metadata": {},
   "source": [
    "数据归一化会有益于梯度下降的性能。在我们这份数据中，由于所使用模型及数据量的原因，这点表现不明显。\n",
    "\n",
    "但，这里你还可以做些调研，看看MinMaxScaler跟StandardScaler分别适用于什么样特点的数据，在什么样的场景下，他们会对模型的效果造成较大的损坏。\n",
    "\n",
    "**回答：** "
   ]
  },
  {
   "cell_type": "markdown",
   "metadata": {},
   "source": [
    "---\n",
    "## 代码优化\n",
    "我们以上实现的train_test_model函数，使用for循环实现了网格搜索。而在sklearn中，往往会通过GridSearchCV来使用网格搜索和交叉验证。我们通过以下代码，来优化之前的train_test_model函数实现。"
   ]
  },
  {
   "cell_type": "code",
   "execution_count": 12,
   "metadata": {},
   "outputs": [],
   "source": [
    "from sklearn.model_selection import GridSearchCV\n",
    "from sklearn.model_selection import train_test_split\n",
    "warnings.filterwarnings('ignore')\n",
    "\n",
    "def optimize_train_test_model(X_train, y_train, X_test, y_test, model_name, model, param_range):\n",
    "    \"\"\"\n",
    "        训练并测试模型\n",
    "        \n",
    "        输入参数：\n",
    "        model_name: 模型名字\n",
    "        model：训练模型\n",
    "        param_range：模型参数取值\n",
    "\n",
    "        输出：\n",
    "        训练之后的GridSearchCV对象\n",
    "\n",
    "    \"\"\"\n",
    "    print('训练{}中'.format(model_name))   \n",
    "    \n",
    "    # TODO\n",
    "    # 基于传入的model构建一个名为clf的GridSearchCV对象\n",
    "    # 其中cv为10，scoring为roc_auc，参数选项为传入的param_range\n",
    "\n",
    "    clf = GridSearchCV(estimator=model,param_grid=param_range,cv = 10,scoring = 'roc_auc',refit=True)\n",
    "    \n",
    "    \n",
    "    start = time.time()\n",
    "    clf.fit(X_train, y_train)\n",
    "    # 计时\n",
    "    end = time.time()\n",
    "    duration = end - start\n",
    "\n",
    "    \n",
    "    # 验证模型，得到模型在训练集和测试集上的评分，并分别存储到train_score和test_score中\n",
    "    train_score = clf.score(X_train, y_train)\n",
    "    test_score = clf.score(X_test, y_test)\n",
    "    \n",
    "    print('训练AUC：{:.3f}'.format(train_score))\n",
    "    print('测试AUC：{:.3f}'.format(test_score))\n",
    "    print('最优参数：{}'.format(clf.best_params_))\n",
    "    \n",
    "    print('训练模型耗时: {:.4f}s'.format(duration))\n",
    "    print('###########################################')\n",
    "    \n",
    "    return clf\n",
    "\n",
    "\n"
   ]
  },
  {
   "cell_type": "code",
   "execution_count": 13,
   "metadata": {},
   "outputs": [
    {
     "name": "stdout",
     "output_type": "stream",
     "text": [
      "训练DT中\n",
      "训练AUC：0.721\n",
      "测试AUC：0.728\n",
      "最优参数：{'max_depth': 2}\n",
      "训练模型耗时: 0.4469s\n",
      "###########################################\n"
     ]
    }
   ],
   "source": [
    "model_name_param_dict = {\n",
    "                         'DT': (DecisionTreeClassifier(),\n",
    "                                {'max_depth': parameters}),\n",
    "                         }\n",
    "\n",
    "# 划分数据集\n",
    "X_train, X_test, y_train, y_test = train_test_split(attrition_comb, y,test_size= 0.2, random_state=1);\n",
    "\n",
    "# TODO\n",
    "for model_name, (model, param_range) in model_name_param_dict.items():\n",
    "# 调用optimize_train_test_model重新训练，模型及参数为以上model_name_param_dict中所定义的决策树,并存储到gscv中\n",
    "    gscv = optimize_train_test_model(X_train, y_train, X_test, y_test,model_name,model, param_range)"
   ]
  },
  {
   "cell_type": "markdown",
   "metadata": {},
   "source": [
    "### 学习曲线\n",
    "\n",
    "我们可以通过绘制学习曲线的方式来可视化网格搜索训练过程中，当超参数取不同值时，模型在训练集和验证集中的得分表现，从而以直观的方式看出随着超参数的变化，模型性能的变化。"
   ]
  },
  {
   "cell_type": "code",
   "execution_count": 14,
   "metadata": {},
   "outputs": [
    {
     "data": {
      "image/png": "[encoded data removed]",
      "text/plain": [
       "<Figure size 432x288 with 1 Axes>"
      ]
     },
     "metadata": {
      "needs_background": "light"
     },
     "output_type": "display_data"
    }
   ],
   "source": [
    "from sklearn.model_selection import validation_curve\n",
    "import matplotlib.pyplot as plt\n",
    "\n",
    "param_range = parameters\n",
    "train_score,test_score = validation_curve(DecisionTreeClassifier(), X_train, y_train, param_name='max_depth', \n",
    "                                          param_range=param_range,cv=10,scoring='roc_auc')\n",
    "train_score =  np.mean(train_score,axis=1)\n",
    "test_score = np.mean(test_score,axis=1)\n",
    "plt.plot(param_range,train_score,'o-',color = 'r',label = 'training')\n",
    "plt.plot(param_range,test_score,'o-',color = 'g',label = 'testing')\n",
    "plt.legend(loc='best')\n",
    "plt.xlabel('depth')\n",
    "plt.ylabel('AUC measurement')\n",
    "plt.show()"
   ]
  },
  {
   "cell_type": "markdown",
   "metadata": {},
   "source": [
    "### 问题\n",
    "1.根据学习曲线，你能看出，depth可能在多少的时候，模型达到最优么？为什么？\n",
    "\n",
    "2.depth为6的时候，模型是欠拟合还是过拟合呢？这时候我们通常称之为方差过大还是偏差过大？\n",
    "\n",
    "\n",
    "**回答：**\n",
    "\n",
    "1.depth为5时，模型达到最优，此时在整个数据集上的表现最好。\n",
    "\n",
    "2.depth为6时，过拟合，此时方差过高。"
   ]
  },
  {
   "cell_type": "markdown",
   "metadata": {},
   "source": [
    "----\n",
    "\n",
    "### 重采样\n",
    "\n",
    "仿佛到了现在，我们的模型效果已经可以接受了。\n",
    "\n",
    "我们更换一个模型，用逻辑回归（LogisticRegression）来试试效果。"
   ]
  },
  {
   "cell_type": "code",
   "execution_count": 15,
   "metadata": {},
   "outputs": [
    {
     "name": "stdout",
     "output_type": "stream",
     "text": [
      "训练DT中\n",
      "训练AUC：0.721\n",
      "测试AUC：0.728\n",
      "最优参数：{'max_depth': 2}\n",
      "训练模型耗时: 0.4525s\n",
      "###########################################\n",
      "训练LR中\n",
      "训练AUC：0.870\n",
      "测试AUC：0.833\n",
      "最优参数：{'C': 1}\n",
      "训练模型耗时: 0.7171s\n",
      "###########################################\n"
     ]
    }
   ],
   "source": [
    "from sklearn.linear_model import LogisticRegression\n",
    "\n",
    "lr_parameters = [0.01, 0.1, 1, 3, 5, 8, 12, 16]\n",
    "# 重新定义model_name_param_dict，通常我们会将需要的尝试的模型放到一起，方便调用时取用\n",
    "model_name_param_dict = {\n",
    "        'DT': (DecisionTreeClassifier(),\n",
    "                {'max_depth': parameters}),\n",
    "        'LR': (LogisticRegression(),\n",
    "                {'C': lr_parameters}),\n",
    "                         }\n",
    "\n",
    "# TODO\n",
    "# 调用optimize_train_test_model重新训练，模型及参数为以上model_name_param_dict中所定义的逻辑回归模型LogisticRegression,同样存储到gscv中\n",
    "for model_name, (model, param_range) in model_name_param_dict.items():\n",
    "# 调用optimize_train_test_model重新训练，模型及参数为以上model_name_param_dict中所定义的决策树,并存储到gscv中\n",
    "    gscv = optimize_train_test_model(X_train, y_train, X_test, y_test,model_name,model, param_range)"
   ]
  },
  {
   "cell_type": "markdown",
   "metadata": {},
   "source": [
    "你在测试集上应该看到了一个大于0.8的AUC值，这看起来已经是很理想的一个模型了。（LR模型运算耗时要比DT高，而且，如果在数据没有进行归一化时耗时高的特点会更明显，大家可以自行尝试）\n",
    "\n",
    "但是，让我们再仔细思考在这个案例中，我们所面对的这份数据。"
   ]
  },
  {
   "cell_type": "code",
   "execution_count": 16,
   "metadata": {},
   "outputs": [
    {
     "name": "stdout",
     "output_type": "stream",
     "text": [
      "离职数据比列：0.1522108843537415\n"
     ]
    }
   ],
   "source": [
    "# TODO\n",
    "# 计算一下训练集y_train中有离职数据（为1）的比例是多少\n",
    "attrition_num = 0\n",
    "for i in y_train:\n",
    "    if i == 1:\n",
    "        attrition_num += 1\n",
    "\n",
    "print(\"离职数据比列：{}\".format(attrition_num/len(y_train)))"
   ]
  },
  {
   "cell_type": "markdown",
   "metadata": {},
   "source": [
    "结果应该是一个在10%到20%之间的较小比例值，这是一份不均衡的训练集。一般来说，当少量样本比例在10%以下时，是必定要开始处理数据的失衡问题，这里虽未达到这么小，我们也同样尝试做下处理。\n",
    "\n",
    "从另一个角度考虑，我们做这份数据分析的初衷，是希望识别那些有较高离职可能的员工，从而采取些行动。从结果指标判断，我们其实希望结果有较高的召回率，我们来计算一下以上模型的召回率。\n",
    "\n",
    "**小问题：** 为何我们这里关注的是召回率？\n",
    "\n",
    "**回答：**"
   ]
  },
  {
   "cell_type": "code",
   "execution_count": 20,
   "metadata": {},
   "outputs": [
    {
     "name": "stdout",
     "output_type": "stream",
     "text": [
      "召回率：0.3793103448275862\n"
     ]
    }
   ],
   "source": [
    "from sklearn.metrics import recall_score\n",
    "\n",
    "def calculate_recall(y_true, y_pred):\n",
    "    # TODO\n",
    "    # 调用recall_score计算模型的召回率并存储到变量recall中\n",
    "    recall = recall_score(y_true, y_pred)\n",
    "    \n",
    "    return recall\n",
    "\n",
    "print('召回率：{}'.format(calculate_recall(y_test, gscv.best_estimator_.predict(X_test))))"
   ]
  },
  {
   "cell_type": "markdown",
   "metadata": {},
   "source": [
    "结果应该是一个比较让人失望的数字。\n",
    "\n",
    "通常使用重采样技术来解决数据失衡的问题，其中包括向上采样以及向下采用两种方法。\n",
    "\n",
    "首先我们通过在从多数类中随机删除实例的方法，实践一下向下采样。\n",
    "\n",
    "#### 向下采样\n",
    "\n",
    "在我们的数据中，分类0的数据比分类1多，向下采样即将分类0的数据量缩减到跟分类1相等"
   ]
  },
  {
   "cell_type": "code",
   "execution_count": 22,
   "metadata": {},
   "outputs": [
    {
     "name": "stdout",
     "output_type": "stream",
     "text": [
      "0类数据个数：997\n",
      "1类数据个数：179\n"
     ]
    }
   ],
   "source": [
    "# 将X_train以及y_train重新拼接，便于采样处理\n",
    "X_train = pd.DataFrame(X_train)\n",
    "attrition_wait_for_sampling = pd.concat([X_train, y_train], axis = 1)\n",
    "attrition_wait_for_sampling\n",
    "# TODO\n",
    "# 获取0类数据个数，存入变量count_class_0，获取1类数据个数，存入变量count_class_1\n",
    "count_class_0, count_class_1 = y_train.value_counts()[0],y_train.value_counts()[1]\n",
    "print(\"0类数据个数：{}\".format(count_class_0))\n",
    "print(\"1类数据个数：{}\".format(count_class_1))\n",
    "\n",
    "# 将训练数据attrition_wait_for_sampling分成attrition_class_0以及attrition_class_1两部分\n",
    "attrition_class_0 = attrition_wait_for_sampling[attrition_wait_for_sampling['Attrition'] == 0]\n",
    "attrition_class_1 = attrition_wait_for_sampling[attrition_wait_for_sampling['Attrition'] == 1]\n"
   ]
  },
  {
   "cell_type": "code",
   "execution_count": null,
   "metadata": {},
   "outputs": [],
   "source": [
    "# TODO\n",
    "# 从attrition_class_0中随机抽样并复制出新项，一共取出count_class_1个，生成由count_class_1个元素组成的新数据attrition_class_0_under\n",
    "attrition_class_0_under = None\n",
    "\n",
    "# 将attrition_class_0_under与attrition_class_1进行拼接，成为新的训练数据\n",
    "attrition_data_under = pd.concat([attrition_class_0_under, attrition_class_1], axis=0)\n",
    "\n",
    "# 重新取出训练数据及目标列\n",
    "y_train_under = attrition_data_under['Attrition']\n",
    "X_train_under = attrition_data_under.drop(['Attrition'], axis=1)\n",
    "\n",
    "# 训练\n",
    "gscv = optimize_train_test_model(X_train_under, y_train_under, X_test, y_test,\n",
    "                                         'LR', model_name_param_dict['LR'][0], model_name_param_dict['LR'][1])\n",
    "\n",
    "# TODO\n",
    "# 计算训练所得模型的召回率\n",
    "print('召回率：{}'.format(None))"
   ]
  },
  {
   "cell_type": "markdown",
   "metadata": {},
   "source": [
    "#### 向上采样\n",
    "在我们的数据中，分类0的数据比分类1多，向上采样即将分类1的数据量随机增加到跟分类0相等。"
   ]
  },
  {
   "cell_type": "code",
   "execution_count": null,
   "metadata": {},
   "outputs": [],
   "source": [
    "# TODO\n",
    "# 从attrition_class_1中随机抽样并复制出新项，一共取出count_class_0个，生成由count_class_0个元素组成的新数据attrition_class_1_over\n",
    "attrition_class_1_over = None\n",
    "\n",
    "# 将attrition_class_1_over与attrition_class_0进行拼接，成为新的训练数据\n",
    "attrition_data_over = pd.concat([attrition_class_0, attrition_class_1_over], axis=0)\n",
    "\n",
    "# 重新取出训练数据及目标列\n",
    "y_train_over = attrition_data_over['Attrition']\n",
    "X_train_over = attrition_data_over.drop(['Attrition'], axis=1)\n",
    "\n",
    "# 训练\n",
    "gscv = optimize_train_test_model(X_train_over, y_train_over, X_test, y_test,\n",
    "                                                 'LR', model_name_param_dict['LR'][0], model_name_param_dict['LR'][1])\n",
    "\n",
    "# TODO\n",
    "# 计算训练所得模型的召回率，并打印出来\n",
    "print('召回率：{}'.format(None))"
   ]
  },
  {
   "cell_type": "markdown",
   "metadata": {},
   "source": [
    "到目前为止，你所能看到的结果应该已经是个效果相当不错的模型了，AUC以及召回率都达到我们所期望的效果。"
   ]
  },
  {
   "cell_type": "markdown",
   "metadata": {},
   "source": [
    "### 选修\n",
    "\n",
    "对于重采样操作，我们如上随机复制数据的方式并不是科学的方法。看似简单，可天下没有免费的午餐。\n",
    "\n",
    "当随机复制数据并做上采样时，出现了大量重复数据，因为我们刻意强调了某些数据特点，会出现过拟合的可能。\n",
    "\n",
    "当随机删除大类样本中的数据时，由于删除操作的随意性，有可能会使得大类样本中的某些信息被删除掉从而影响模型效果。\n",
    "\n",
    "Python [`imbalanced-learn模块`](http://contrib.scikit-learn.org/imbalanced-learn/stable/)提供了更为丰富和科学的重采样方法，比如在做下采样时，先对大类样本做聚类操作，然后从每个聚类中均匀删除记录以便尽可能保留大类样本中的有用信息。又比如在做上采样的时候，不是简单的做记录复制，而是在复制出的记录属性中，加入一些小的偏差值，以保证数据多样性的原本特点。\n",
    "\n",
    "我们可以在conda命令行中执行 conda install -c conda-forge imbalanced-learn ，来安装这个模块。\n",
    "\n",
    "以下代码中，我们尝试使用imblearn.combine.SMOTETomek来做上下采样相结合的数据处理，然后进行模型训练并查看结果。（在imblearn模块中，还存在其它如imblearn.over_sampling.SMOTE、imblearn.under_sampling.ClusterCentroids等多种上采样或者下采样方法）"
   ]
  },
  {
   "cell_type": "code",
   "execution_count": null,
   "metadata": {},
   "outputs": [],
   "source": [
    "from imblearn.combine import SMOTETomek\n",
    "from sklearn.tree import DecisionTreeClassifier\n",
    "\n",
    "# TODO\n",
    "# 构建SMOTETomek对象smt并将ratio设置为auto\n",
    "smt = None\n",
    "\n",
    "# 对数据进行采样处理并生成到X_smt和y_smt中\n",
    "X_smt, y_smt = smt.fit_sample(X_train, y_train)\n",
    "\n",
    "# TODO\n",
    "# 调用optimize_train_test_model使用LR算法对数据进行训练\n",
    "gscv = None\n",
    "\n",
    "# TODO\n",
    "# 计算训练所得模型的召回率\n",
    "print('召回率：{}'.format(None))"
   ]
  }
 ],
 "metadata": {
  "kernelspec": {
   "display_name": "Python 3",
   "language": "python",
   "name": "python3"
  },
  "language_info": {
   "codemirror_mode": {
    "name": "ipython",
    "version": 3
   },
   "file_extension": ".py",
   "mimetype": "text/x-python",
   "name": "python",
   "nbconvert_exporter": "python",
   "pygments_lexer": "ipython3",
   "version": "3.7.4"
  }
 },
 "nbformat": 4,
 "nbformat_minor": 2
}
